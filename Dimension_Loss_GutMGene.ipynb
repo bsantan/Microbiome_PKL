{
 "cells": [
  {
   "cell_type": "code",
   "execution_count": null,
   "metadata": {},
   "outputs": [],
   "source": [
    "import pickle\n",
    "import zipfile\n",
    "\n",
    "#object = pd.read_pickle(r'/Users/brooksantangelo/Documents/Rotation2/Rocky/PKL_Additions/GutMGene/Node2Vec_DimensionCheck/PheKnowLator_v2_node2vec_Model.pkl/model.pckl')\n",
    "\n",
    "#objects = []\n",
    "#with open('/Users/brooksantangelo/Documents/Rotation2/Rocky/PKL_Additions/GutMGene/Node2Vec_DimensionCheck/PheKnowLator_v2_node2vec_Model.pkl/model.pckl','rb') as f:\n",
    "#    objects.append(pickle.load(f))\n",
    "  \n",
    "zf = zipfile.ZipFile('/Users/brooksantangelo/Documents/Rotation2/Rocky/PKL_Additions/GutMGene/Node2Vec_DimensionCheck/PheKnowLator_v2_node2vec_Model.pkl.zip', 'w', zipfile.ZIP_DEFLATED)\n",
    "\n",
    "f = zf.open('/Users/brooksantangelo/Documents/Rotation2/Rocky/PKL_Additions/GutMGene/Node2Vec_DimensionCheck/PheKnowLator_v2_node2vec_Model.pkl')\n",
    "f.read(1)\n",
    "f.readline()"
   ]
  },
  {
   "cell_type": "code",
   "execution_count": null,
   "metadata": {},
   "outputs": [],
   "source": [
    "#Test logistic regression with existing graph of MONDO, GO, and OTU classes because I already\n",
    "#had those embeddings stored\n",
    "\n",
    "\n",
    "#samples = # nodes in graph\n",
    "#classes = # types of nodes in graph (i.e. # unique CURIEs)\n",
    "\n",
    "\n",
    "#Import medici network as test\n",
    "import networkx as nx\n",
    "import csv\n",
    "from csv import reader\n",
    "\n",
    "#Import disease, GO, otus from network\n",
    "mondo_file = '/Users/brooksantangelo/Documents/Rotation2/Rocky/PKL_Additions/GutMGene/AnalysisOutput/MONDO_embeddings_df.csv'\n",
    "go_file = '/Users/brooksantangelo/Documents/Rotation2/Rocky/PKL_Additions/GutMGene/AnalysisOutput/GO_embeddings_df.csv'\n",
    "otu_file = '/Users/brooksantangelo/Documents/Rotation2/Rocky/PKL_Additions/GutMGene/AnalysisOutput/otu_embeddings.csv'\n",
    "\n",
    "features = []\n",
    "classes = []\n",
    "\n",
    "#MONDO- class 0\n",
    "f = open(mondo_file,'r')\n",
    "reader = csv.reader(f)\n",
    "#Skip header which is just dimension names\n",
    "next(reader,None)\n",
    "\n",
    "for row in reader:\n",
    "    features.append([float(i) for i in row[1:]])\n",
    "    classes.append(0)\n",
    "    #features.append(row[1:])\n",
    "f.close\n",
    "#GO- class 1\n",
    "f = open(mondo_file,'r')\n",
    "reader = csv.reader(f)\n",
    "#Skip header which is just dimension names\n",
    "next(reader,None)\n",
    "\n",
    "for row in reader:\n",
    "    features.append([float(i) for i in row[1:]])\n",
    "    classes.append(1)\n",
    "    #features.append(row[1:])\n",
    "f.close\n",
    "#OTU- class 2\n",
    "f = open(mondo_file,'r')\n",
    "reader = csv.reader(f)\n",
    "#Skip header which is just dimension names\n",
    "next(reader,None)\n",
    "\n",
    "for row in reader:\n",
    "    classes.append(2)\n",
    "    features.append([float(i) for i in row[1:]])\n",
    "    #features.append(row[1:])\n",
    "f.close"
   ]
  },
  {
   "cell_type": "code",
   "execution_count": null,
   "metadata": {},
   "outputs": [],
   "source": [
    "# logistic regression for multi-class classification using built-in one-vs-rest\n",
    "from sklearn.datasets import make_classification\n",
    "from sklearn.linear_model import LogisticRegression\n",
    "# define model\n",
    "model = LogisticRegression(multi_class='ovr')\n",
    "# fit model\n",
    "model.fit(features, classes)\n",
    "# make predictions\n",
    "yhat = model.predict(features)\n",
    "\n",
    "\n"
   ]
  },
  {
   "cell_type": "code",
   "execution_count": null,
   "metadata": {},
   "outputs": [],
   "source": [
    "from sklearn.metrics import f1_score\n",
    "\n",
    "f1 = f1_score(classes,yhat,average = 'macro')\n",
    "print(f1)"
   ]
  },
  {
   "cell_type": "code",
   "execution_count": null,
   "metadata": {},
   "outputs": [],
   "source": []
  },
  {
   "cell_type": "code",
   "execution_count": 2,
   "metadata": {},
   "outputs": [],
   "source": [
    "##Only have to run these once for all embeddings files\n",
    "edgelist_cleaned_file = '/Users/brooksantangelo/Documents/Rotation2/Rocky/PKL_Additions/GutMGene/PheKnowLator_v2.1.0_full_instance_relationsOnly_OWLNETS_Triples_Integers_node2vecInput_cleaned_withGutMGene_withMicrobes.txt'\n",
    "\n",
    "\n",
    "#G = nx.read_edgelist(edgelist_cleaned_file)\n",
    "#nodes = list(G)\n",
    "\n",
    "\n",
    "#print(len(nodes))\n",
    "\n",
    "#from igraph import *\n",
    "\n",
    "#g = Graph.Read_Edgelist(edgelist_cleaned_file, directed=True)\n",
    "#nodes = g.vs"
   ]
  },
  {
   "cell_type": "code",
   "execution_count": 103,
   "metadata": {},
   "outputs": [
    {
     "name": "stdout",
     "output_type": "stream",
     "text": [
      "745700\n"
     ]
    }
   ],
   "source": [
    "import pandas as pd\n",
    "edgelist_cleaned_file = '/Users/brooksantangelo/Documents/Rotation2/Rocky/PKL_Additions/GutMGene/PheKnowLator_v2.1.0_full_instance_relationsOnly_OWLNETS_Triples_Integers_node2vecInput_cleaned_withGutMGene_withMicrobes.txt'\n",
    "\n",
    "#edgelist_test = pd.read_csv(edgelist_cleaned_file,delimiter=' ',header=None,index_col=False) \n",
    "#print(len(edgelist_test))\n",
    "\n",
    "#edgelist_test.columns = ['Subject','Object']\n",
    "\n",
    "#unique_nodes = pd.Series({col:edgelist_test[col].unique() for col in edgelist_test})\n",
    "column_values = edgelist_test[['Subject','Object']].values.ravel()\n",
    "unique_nodes = pd.unique(column_values)\n",
    "\n",
    "print(len(unique_nodes))"
   ]
  },
  {
   "cell_type": "code",
   "execution_count": 19,
   "metadata": {},
   "outputs": [],
   "source": [
    "##Only have to run these once for all embeddings files\n",
    "import csv\n",
    "from csv import reader\n",
    "\n",
    "nodes = []\n",
    "\n",
    "with open(edgelist_cleaned_file, newline = '') as f:                                                                                          \n",
    "    f_reader = csv.reader(f, delimiter=' ')\n",
    "    for l in f_reader:\n",
    "        if int(l[0]) not in nodes:\n",
    "            nodes.append(int(l[0]))\n",
    "        if int(l[1]) not in nodes:\n",
    "            nodes.append(int(l[1]))       \n",
    "        "
   ]
  },
  {
   "cell_type": "code",
   "execution_count": 105,
   "metadata": {},
   "outputs": [
    {
     "name": "stdout",
     "output_type": "stream",
     "text": [
      "745700\n",
      "745998\n",
      "745700\n"
     ]
    }
   ],
   "source": [
    "import pandas as pd\n",
    "\n",
    "column_values = edgelist_test[['Subject','Object']].values.ravel()\n",
    "unique_nodes = pd.unique(column_values)\n",
    "\n",
    "\n",
    "iden_subset = {key: value for key, value in iden.items() if value in unique_nodes}\n",
    "print(len(list(iden_subset.keys())))"
   ]
  },
  {
   "cell_type": "markdown",
   "metadata": {},
   "source": [
    "Testing this method for the embeddings2.emb file"
   ]
  },
  {
   "cell_type": "code",
   "execution_count": 116,
   "metadata": {},
   "outputs": [
    {
     "name": "stderr",
     "output_type": "stream",
     "text": [
      " 88%|████████▊ | 654067/745700 [00:10<00:01, 64721.29it/s]"
     ]
    },
    {
     "name": "stdout",
     "output_type": "stream",
     "text": [
      "Unknown:  <http://purl.obolibrary.org/obo/D96882F1-8709-49AB-BCA9-772A67EA6C33> []\n",
      "Unknown:  subject []\n",
      "Unknown:  object []\n"
     ]
    },
    {
     "name": "stderr",
     "output_type": "stream",
     "text": [
      "100%|██████████| 745700/745700 [00:12<00:00, 60505.97it/s]\n"
     ]
    }
   ],
   "source": [
    "\n",
    "unknown_uris = []\n",
    "classes_b = []\n",
    "\n",
    "\n",
    "for key,val in tqdm(iden_subset.items()):\n",
    "    covered = 0\n",
    "    lab = [idx for idx,i in enumerate(label_names) if label_names[idx].lower() in key.lower()]\n",
    "    if len(lab) == 0:\n",
    "        classes_b.append(len(label_names)+1)\n",
    "        unknown_uris.append(key)\n",
    "        print('Unknown: ',key,lab)\n",
    "    if len(lab) == 1:\n",
    "        classes_b.append(lab[0])\n",
    "    \n"
   ]
  },
  {
   "cell_type": "code",
   "execution_count": 118,
   "metadata": {},
   "outputs": [
    {
     "name": "stdout",
     "output_type": "stream",
     "text": [
      "[2, 0, 12, 5, 12, 7, 7, 1, 6, 5, 2, 0, 6, 6, 13, 8, 12, 5, 4, 2, 4, 4, 13, 11, 11, 0, 13, 11, 12, 5]\n",
      "[2, 0, 12, 5, 12, 7, 7, 1, 6, 17, 5, 2, 0, 6, 17, 6, 17, 13, 8, 12, 5, 4, 2, 4, 4, 13, 11, 11, 0, 13]\n"
     ]
    }
   ],
   "source": [
    "print(classes_b[0:30])\n",
    "print(classes_new[0:30])"
   ]
  },
  {
   "cell_type": "code",
   "execution_count": 64,
   "metadata": {},
   "outputs": [
    {
     "name": "stdout",
     "output_type": "stream",
     "text": [
      "[73277, 87587, 87588, 96274, 105847, 105849, 111338, 113833, 130492, 152661, 175483, 175568, 183873, 210578, 210579, 210761, 214746, 214767, 219462, 221052, 228409, 228727, 242367, 242368, 255969, 261691, 263388, 271537, 271538, 276513, 277036, 277037, 282335, 300994, 304553, 323458, 324278, 324452, 329497, 337916, 355489, 380681, 380682, 382300, 394944, 395722, 395879, 403932, 407761, 419722, 437514, 442966, 455233, 457579, 458028, 458029, 462633, 471058, 479087, 483964, 484907, 497719, 497720, 506305, 506305, 508106, 508106, 514527, 531040, 539299, 541666, 541667, 548612, 553922, 558676, 563987, 574312, 596018, 596019, 597246, 600796, 601910, 602488, 618054, 620247, 626809, 631887, 642856, 643462, 644325, 650326, 650328, 652156, 659857, 669845, 675371, 684814, 688874, 695517, 704335, 704335, 712509, 719442, 722995, 726920, 735461, 738136]\n"
     ]
    }
   ],
   "source": [
    "unclassified_uris = ['<http://purl.obolibrary.org/obo/MF_0000020>','<http://purl.obolibrary.org/obo/PCO_0000018>',\n",
    "          '<http://purl.obolibrary.org/obo/PCO_0000000>','<http://purl.obolibrary.org/obo/PCO_0000001>',\n",
    "          '<http://purl.obolibrary.org/obo/OGMS_0000063>','<http://purl.obolibrary.org/obo/OGMS_0000031>',\n",
    "          '<http://purl.obolibrary.org/obo/MF_0000061>','<http://ncicb.nci.nih.gov/xml/owl/EVS/Thesaurus.owl#Amniotic_Fluid>',\n",
    "          '<http://ncicb.nci.nih.gov/xml/owl/EVS/Thesaurus.owl#Gonad>','<http://purl.obolibrary.org/obo/OBA_1001084>',\n",
    "          '<http://sig.uw.edu/fma#Common_iliac_artery>','<http://ncicb.nci.nih.gov/xml/owl/EVS/Thesaurus.owl#Iliac_Vein>',\n",
    "          '<http://sig.uw.edu/fma#External_genitalia>','<http://ncicb.nci.nih.gov/xml/owl/EVS/Thesaurus.owl#Amniotic_Sac>',\n",
    "          '<http://sig.uw.edu/fma#Amnion>','<http://purl.obolibrary.org/obo/NCIT_C15493>','<http://purl.obolibrary.org/obo/CP_0000037>',\n",
    "          '<http://sig.uw.edu/fma#Umbilicus>','<http://sig.uw.edu/fma#Trachealis>','<http://sig.uw.edu/fma#Scalp>',\n",
    "          '<http://purl.obolibrary.org/obo/CP_0000039>','<http://sig.uw.edu/fma#Iliac_crest>','<http://purl.obolibrary.org/obo/MF_0000033>',\n",
    "          '<http://purl.obolibrary.org/obo/MF_0000032>','<http://purl.obolibrary.org/obo/NCIT_C14239>',\n",
    "          '<http://purl.obolibrary.org/obo/NCIT_C38328>','<http://purl.obolibrary.org/obo/NCIT_C35920>','<http://purl.obolibrary.org/obo/OAE_0000097>',\n",
    "          '<http://purl.obolibrary.org/obo/OAE_0000004>','<http://sig.uw.edu/fma#Ischium>','<http://purl.obolibrary.org/obo/NCIT_C38103>',\n",
    "          '<http://purl.obolibrary.org/obo/NCIT_C18020>','<http://purl.obolibrary.org/obo/PCO_0000031>','<http://purl.obolibrary.org/obo/MFOMD_0000107>',\n",
    "          '<http://purl.obolibrary.org/obo/NCIT_C68749>','<http://sig.uw.edu/fma#Calcaneal_tendon>','<http://purl.bioontology.org/ontology/SNOMEDCT/277441005>',\n",
    "          '<http://purl.obolibrary.org/obo/CP_0000028>','<http://purl.obolibrary.org/obo/NCIT_C45980>','<http://purl.obolibrary.org/obo/MFOMD_0000101>',\n",
    "          '<http://ncicb.nci.nih.gov/xml/owl/EVS/Thesaurus.owl#Chorionic_Villus>','<http://purl.obolibrary.org/obo/OAE_0000001>',\n",
    "          '<http://purl.obolibrary.org/obo/OGMS_0000061>','<http://purl.obolibrary.org/obo/CP_0000027>','<http://purl.obolibrary.org/obo/MF_0000013>',\n",
    "           '<http://purl.obolibrary.org/obo/NCIT_C19683>','<http://purl.obolibrary.org/obo/UMLS_C1709838>','<http://purl.obolibrary.org/obo/NCIT_C36104>',\n",
    "          '<http://purl.obolibrary.org/obo/NCIT_C16326>','<http://purl.obolibrary.org/obo/MFOEM_000193>','<http://purl.obolibrary.org/obo/NCIT_C53637>',\n",
    "          '<http://purl.obolibrary.org/obo/NCIT_C17204>','<http://purl.obolibrary.org/obo/NCIT_C37109>','<http://purl.obolibrary.org/obo/NCIT_C15496>',\n",
    "          '<http://purl.obolibrary.org/obo/PCO_0000002>','<http://purl.obolibrary.org/obo/PCO_0000029>','<http://purl.obolibrary.org/obo/MFOMD_0000109>',\n",
    "          '<http://purl.obolibrary.org/obo/NCIT_C15497>','<http://purl.obolibrary.org/obo/NCIT_C17214>','<http://purl.obolibrary.org/obo/NCIT_C147564>',\n",
    "          '<http://purl.obolibrary.org/obo/NCIT_C16273>','<http://purl.obolibrary.org/obo/MF_0000073>','<http://purl.obolibrary.org/obo/MF_0000075>',\n",
    "          '<http://purl.obolibrary.org/obo/IDO_0000528>','<http://purl.obolibrary.org/obo/IDO_0000528>','<http://ncicb.nci.nih.gov/xml/owl/EVS/Thesaurus.owl#Embryonic_Fluid>',\n",
    "          '<http://ncicb.nci.nih.gov/xml/owl/EVS/Thesaurus.owl#Embryonic_Fluid>','<http://purl.obolibrary.org/obo/MFOMD_0000105>',\n",
    "           '<http://purl.obolibrary.org/obo/MF_0000008>','<http://purl.obolibrary.org/obo/CP_0000035>','<http://purl.obolibrary.org/obo/MF_0000031>',\n",
    "          '<http://purl.obolibrary.org/obo/MF_0000030>','<http://purl.obolibrary.org/obo/NCIT_C68748>','<http://purl.obolibrary.org/obo/MFOMD_0000122>',\n",
    "          '<http://sig.uw.edu/fma#Tunica_albuginea_of_testis>','<http://purl.obolibrary.org/obo/OAE_0000055>','<http://purl.obolibrary.org/obo/NCIT_C52005>',\n",
    "          '<http://purl.obolibrary.org/obo/NCIT_C19160>','<http://purl.obolibrary.org/obo/NCIT_C20181>','<http://purl.obolibrary.org/obo/OGMS_0000060>',\n",
    "          '<http://purl.obolibrary.org/obo/MFOMD_0000119>','<http://purl.obolibrary.org/obo/NCIT_C25193>','<http://purl.obolibrary.org/obo/OGMS_0000087>',\n",
    "          '<http://purl.obolibrary.org/obo/NCIT_C19085>','<http://purl.obolibrary.org/obo/NCIT_C38053>','<http://purl.obolibrary.org/obo/CP_0000040>',\n",
    "          '<http://purl.obolibrary.org/obo/NCIT_C16809>','<http://purl.obolibrary.org/obo/NCIT_C45981>','<http://purl.obolibrary.org/obo/D96882F1-8709-49AB-BCA9-772A67EA6C33>',\n",
    "          '<http://purl.obolibrary.org/obo/CP_0000000>','subject','object','<http://purl.obolibrary.org/obo/MF_0000017>','<http://sig.uw.edu/fma#Right_ischium>',\n",
    "          '<http://purl.obolibrary.org/obo/MF_0000074>','<http://purl.obolibrary.org/obo/MF_0000076>','<http://purl.obolibrary.org/obo/NCIT_C37123>',\n",
    "          '<http://purl.obolibrary.org/obo/NCIT_C36869>','<http://purl.obolibrary.org/obo/NCIT_C15492>','<http://purl.obolibrary.org/obo/NCIT_C43431>',\n",
    "          '<http://purl.obolibrary.org/obo/NCIT_C43431>','<http://purl.obolibrary.org/obo/CP_0000043>','<http://purl.obolibrary.org/obo/OGMS_0000045>',\n",
    "          '<http://purl.obolibrary.org/obo/IDO_0000547>','<http://purl.obolibrary.org/obo/FBbt_01000119>','<http://purl.obolibrary.org/obo/NCIT_C16525>',\n",
    "          '<http://purl.obolibrary.org/obo/UPHENO_0001001>']\n",
    "indexes = []\n",
    "\n",
    "\n",
    "for i in unclassified_uris:\n",
    "    indexes.append(iden[i])\n",
    "    \n",
    "print(indexes)\n",
    "\n",
    "#Need to add these categories:\n",
    "added_label_names = ['MF_', 'PCO_', 'OGMS_', 'EVS/', 'NCIT_', 'CP_', 'MFOEM_', 'UMLS_', 'OAE_', 'OGMS_', '/fma', 'MFOMD_', 'IDO_','FBbt_','UPHENO_']\n",
    "\n",
    "start = 36\n",
    "for n in range(len(unclassified_uris)):\n",
    "    for i in range(len(added_label_names)):\n",
    "        if added_label_names[i].lower() in unclassified_uris[n].lower():\n",
    "            classes.insert(indexes[n],36+i)\n"
   ]
  },
  {
   "cell_type": "code",
   "execution_count": 87,
   "metadata": {},
   "outputs": [],
   "source": [
    "from gensim.models import Word2Vec\n",
    "from gensim.models import KeyedVectors\n",
    "import json\n",
    "from sklearn.linear_model import LogisticRegression\n",
    "from sklearn.metrics import f1_score\n",
    "from tqdm import tqdm\n",
    "\n",
    "def get_classes(identifier_map,label_names):\n",
    "\n",
    "    classes = []\n",
    "    unknown_uris = []\n",
    "\n",
    "    for key,val in tqdm(identifier_map.items()):\n",
    "        covered = 0\n",
    "        lab = [idx for idx,i in enumerate(label_names) if label_names[idx].lower() in key.lower()]\n",
    "        if len(lab) == 0:\n",
    "            classes.append(len(label_names)+1)\n",
    "            unknown_uris.append(key)\n",
    "        if len(lab) == 1:\n",
    "            classes.append(lab[0])\n",
    "        \n",
    "    return classes,unknown_uris\n",
    "\n",
    "def get_features(embeddings_file,identifier_map):\n",
    "    \n",
    "    emb = KeyedVectors.load_word2vec_format(embeddings_file, binary=False)\n",
    "\n",
    "    #Read embeddings into list for classification\n",
    "    features = []\n",
    "\n",
    "    for n in list(identifier_map.values()):\n",
    "        #Get embedding for each node, append to features\n",
    "        features.append(emb[str(n)])\n",
    "        \n",
    "    return features\n",
    "\n",
    "def get_f1_score(features,classes):\n",
    "    # define model\n",
    "    model = LogisticRegression(multi_class='ovr',max_iter=1000)\n",
    "    # fit model\n",
    "    model.fit(features, classes)\n",
    "    # make predictions\n",
    "    predictions = model.predict(features)\n",
    "    \n",
    "    #calc macro-f1 score\n",
    "    f1 = f1_score(classes,predictions,average = 'macro')\n",
    "    \n",
    "    return f1\n",
    "\n",
    "def plot_f1_scores(output_dir,f1_scores):\n",
    "\n",
    "    #Sort dimensions from lowest to highest for plot\n",
    "    dictionary_items = f1_scores.items()\n",
    "    sorted_f1_scores = sorted(dictionary_items)\n",
    "\n",
    "    x = [a_tuple[0] for a_tuple in sorted_f1_scores]\n",
    "    y = [a_tuple[1] for a_tuple in sorted_f1_scores]\n",
    "    plt.title(\"Parameter Sensitivity for PKL+GutMGene Vector Embeddings\")\n",
    "    plt.xlabel(\"# Dimensions\")\n",
    "    plt.ylabel(\"Macro-F1 Score\")\n",
    "    plt.scatter(x,y)\n",
    "    plt.plot(x,y)\n",
    "    \n",
    "    plt.savefig(output_dir + 'F1_Scores.png')\n",
    "    "
   ]
  },
  {
   "cell_type": "code",
   "execution_count": 9,
   "metadata": {},
   "outputs": [
    {
     "name": "stdout",
     "output_type": "stream",
     "text": [
      "744757\n"
     ]
    }
   ],
   "source": [
    "import pandas as pd\n",
    "edgelist_cleaned_file = '/Users/brooksantangelo/Documents/Rotation2/Rocky/PKL_Additions/GutMGene/Node2Vec_DimensionCheck/PheKnowLator_v2.1.0_full_instance_relationsOnly_OWLNETS_Triples_Integers_node2vecInput_cleaned_withGutMGene_withMicrobes.txt'\n",
    "\n",
    "edgelist_nodes = pd.read_csv(edgelist_cleaned_file,delimiter=' ',header=None,index_col=False) \n",
    "#print(len(edgelist_test))\n",
    "\n",
    "edgelist_nodes.columns = ['Subject','Object']\n",
    "\n",
    "#unique_nodes = pd.Series({col:edgelist_test[col].unique() for col in edgelist_test})\n",
    "column_values = edgelist_nodes[['Subject','Object']].values.ravel()\n",
    "unique_nodes = pd.unique(column_values)\n",
    "\n",
    "print(len(unique_nodes))"
   ]
  },
  {
   "cell_type": "markdown",
   "metadata": {},
   "source": [
    "Running this for all embeddings files"
   ]
  },
  {
   "cell_type": "code",
   "execution_count": 12,
   "metadata": {},
   "outputs": [
    {
     "name": "stderr",
     "output_type": "stream",
     "text": [
      "\r",
      "  0%|          | 0/42 [00:00<?, ?it/s]"
     ]
    },
    {
     "name": "stdout",
     "output_type": "stream",
     "text": [
      "PheKnowLator_v2_node2vec_Embeddings122.emb\n",
      "features done\n"
     ]
    },
    {
     "name": "stderr",
     "output_type": "stream",
     "text": [
      "\r",
      "  2%|▏         | 1/42 [10:14<6:59:47, 614.33s/it]"
     ]
    },
    {
     "name": "stdout",
     "output_type": "stream",
     "text": [
      "f1 score done\n",
      "PheKnowLator_v2_node2vec_Embeddings26.emb\n",
      "features done\n"
     ]
    },
    {
     "name": "stderr",
     "output_type": "stream",
     "text": [
      "\r",
      "  5%|▍         | 2/42 [13:14<3:59:07, 358.69s/it]"
     ]
    },
    {
     "name": "stdout",
     "output_type": "stream",
     "text": [
      "f1 score done\n",
      "PheKnowLator_v2_node2vec_Embeddings2.emb\n",
      "features done\n"
     ]
    },
    {
     "name": "stderr",
     "output_type": "stream",
     "text": [
      "\r",
      "  7%|▋         | 3/42 [14:02<2:20:55, 216.81s/it]"
     ]
    },
    {
     "name": "stdout",
     "output_type": "stream",
     "text": [
      "f1 score done\n",
      "PheKnowLator_v2_node2vec_Embeddings18.emb\n",
      "features done\n"
     ]
    },
    {
     "name": "stderr",
     "output_type": "stream",
     "text": [
      "\r",
      " 10%|▉         | 4/42 [16:27<1:59:25, 188.58s/it]"
     ]
    },
    {
     "name": "stdout",
     "output_type": "stream",
     "text": [
      "f1 score done\n",
      "PheKnowLator_v2_node2vec_Embeddings30.emb\n",
      "features done\n"
     ]
    },
    {
     "name": "stderr",
     "output_type": "stream",
     "text": [
      "\r",
      " 12%|█▏        | 5/42 [19:35<1:56:05, 188.26s/it]"
     ]
    },
    {
     "name": "stdout",
     "output_type": "stream",
     "text": [
      "f1 score done\n",
      "PheKnowLator_v2_node2vec_Embeddings118.emb\n",
      "features done\n"
     ]
    },
    {
     "name": "stderr",
     "output_type": "stream",
     "text": [
      "\r",
      " 17%|█▋        | 7/42 [28:06<2:09:46, 222.47s/it]"
     ]
    },
    {
     "name": "stdout",
     "output_type": "stream",
     "text": [
      "f1 score done\n",
      "PheKnowLator_v2_node2vec_Embeddings34.emb\n",
      "features done\n"
     ]
    },
    {
     "name": "stderr",
     "output_type": "stream",
     "text": [
      "\r",
      " 19%|█▉        | 8/42 [31:30<2:03:19, 217.63s/it]"
     ]
    },
    {
     "name": "stdout",
     "output_type": "stream",
     "text": [
      "f1 score done\n",
      "PheKnowLator_v2_node2vec_Embeddings6.emb\n",
      "features done\n"
     ]
    },
    {
     "name": "stderr",
     "output_type": "stream",
     "text": [
      "\r",
      " 24%|██▍       | 10/42 [32:40<1:13:56, 138.64s/it]"
     ]
    },
    {
     "name": "stdout",
     "output_type": "stream",
     "text": [
      "f1 score done\n",
      "PheKnowLator_v2_node2vec_Embeddings22.emb\n",
      "features done\n"
     ]
    },
    {
     "name": "stderr",
     "output_type": "stream",
     "text": [
      "\r",
      " 31%|███       | 13/42 [35:17<46:57, 97.14s/it]   "
     ]
    },
    {
     "name": "stdout",
     "output_type": "stream",
     "text": [
      "f1 score done\n",
      "PheKnowLator_v2_node2vec_Embeddings126.emb\n",
      "features done\n"
     ]
    },
    {
     "name": "stderr",
     "output_type": "stream",
     "text": [
      "\r",
      " 33%|███▎      | 14/42 [45:13<1:28:42, 190.09s/it]"
     ]
    },
    {
     "name": "stdout",
     "output_type": "stream",
     "text": [
      "f1 score done\n",
      "PheKnowLator_v2_node2vec_Embeddings86.emb\n",
      "features done\n"
     ]
    },
    {
     "name": "stderr",
     "output_type": "stream",
     "text": [
      "\r",
      " 36%|███▌      | 15/42 [52:00<1:46:05, 235.75s/it]"
     ]
    },
    {
     "name": "stdout",
     "output_type": "stream",
     "text": [
      "f1 score done\n",
      "PheKnowLator_v2_node2vec_Embeddings78.emb\n",
      "features done\n"
     ]
    },
    {
     "name": "stderr",
     "output_type": "stream",
     "text": [
      "\r",
      " 38%|███▊      | 16/42 [58:15<1:56:07, 268.00s/it]"
     ]
    },
    {
     "name": "stdout",
     "output_type": "stream",
     "text": [
      "f1 score done\n",
      "PheKnowLator_v2_node2vec_Embeddings50.emb\n",
      "features done\n"
     ]
    },
    {
     "name": "stderr",
     "output_type": "stream",
     "text": [
      "\r",
      " 40%|████      | 17/42 [1:02:47<1:51:58, 268.75s/it]"
     ]
    },
    {
     "name": "stdout",
     "output_type": "stream",
     "text": [
      "f1 score done\n",
      "PheKnowLator_v2_node2vec_Embeddings46.emb\n",
      "features done\n"
     ]
    },
    {
     "name": "stderr",
     "output_type": "stream",
     "text": [
      "\r",
      " 43%|████▎     | 18/42 [2:10:05<8:21:57, 1254.90s/it]"
     ]
    },
    {
     "name": "stdout",
     "output_type": "stream",
     "text": [
      "f1 score done\n",
      "PheKnowLator_v2_node2vec_Embeddings90.emb\n",
      "features done\n"
     ]
    },
    {
     "name": "stderr",
     "output_type": "stream",
     "text": [
      "\r",
      " 45%|████▌     | 19/42 [2:16:51<6:32:34, 1024.12s/it]"
     ]
    },
    {
     "name": "stdout",
     "output_type": "stream",
     "text": [
      "f1 score done\n",
      "PheKnowLator_v2_node2vec_Embeddings94.emb\n",
      "features done\n"
     ]
    },
    {
     "name": "stderr",
     "output_type": "stream",
     "text": [
      "\r",
      " 50%|█████     | 21/42 [2:23:42<3:53:04, 665.95s/it] "
     ]
    },
    {
     "name": "stdout",
     "output_type": "stream",
     "text": [
      "f1 score done\n",
      "PheKnowLator_v2_node2vec_Embeddings42.emb\n",
      "features done\n"
     ]
    },
    {
     "name": "stderr",
     "output_type": "stream",
     "text": [
      "\r",
      " 52%|█████▏    | 22/42 [2:27:43<3:08:18, 564.91s/it]"
     ]
    },
    {
     "name": "stdout",
     "output_type": "stream",
     "text": [
      "f1 score done\n",
      "PheKnowLator_v2_node2vec_Embeddings54.emb\n",
      "features done\n"
     ]
    },
    {
     "name": "stderr",
     "output_type": "stream",
     "text": [
      "\r",
      " 57%|█████▋    | 24/42 [2:32:35<1:58:36, 395.34s/it]"
     ]
    },
    {
     "name": "stdout",
     "output_type": "stream",
     "text": [
      "f1 score done\n",
      "PheKnowLator_v2_node2vec_Embeddings82.emb\n",
      "features done\n"
     ]
    },
    {
     "name": "stderr",
     "output_type": "stream",
     "text": [
      "\r",
      " 60%|█████▉    | 25/42 [2:39:20<1:52:37, 397.48s/it]"
     ]
    },
    {
     "name": "stdout",
     "output_type": "stream",
     "text": [
      "f1 score done\n",
      "PheKnowLator_v2_node2vec_Embeddings70.emb\n",
      "features done\n"
     ]
    },
    {
     "name": "stderr",
     "output_type": "stream",
     "text": [
      "\r",
      " 62%|██████▏   | 26/42 [2:45:27<1:44:00, 390.02s/it]"
     ]
    },
    {
     "name": "stdout",
     "output_type": "stream",
     "text": [
      "f1 score done\n",
      "PheKnowLator_v2_node2vec_Embeddings58.emb\n",
      "features done\n"
     ]
    },
    {
     "name": "stderr",
     "output_type": "stream",
     "text": [
      "\r",
      " 64%|██████▍   | 27/42 [2:50:41<1:32:39, 370.63s/it]"
     ]
    },
    {
     "name": "stdout",
     "output_type": "stream",
     "text": [
      "f1 score done\n",
      "PheKnowLator_v2_node2vec_Embeddings98.emb\n",
      "features done\n"
     ]
    },
    {
     "name": "stderr",
     "output_type": "stream",
     "text": [
      "\r",
      " 69%|██████▉   | 29/42 [2:58:33<1:07:54, 313.43s/it]"
     ]
    },
    {
     "name": "stdout",
     "output_type": "stream",
     "text": [
      "f1 score done\n",
      "PheKnowLator_v2_node2vec_Embeddings66.emb\n",
      "features done\n"
     ]
    },
    {
     "name": "stderr",
     "output_type": "stream",
     "text": [
      "\r",
      " 71%|███████▏  | 30/42 [3:05:10<1:06:35, 332.98s/it]"
     ]
    },
    {
     "name": "stdout",
     "output_type": "stream",
     "text": [
      "f1 score done\n",
      "PheKnowLator_v2_node2vec_Embeddings62.emb\n",
      "features done\n"
     ]
    },
    {
     "name": "stderr",
     "output_type": "stream",
     "text": [
      "\r",
      " 74%|███████▍  | 31/42 [6:08:56<9:09:37, 2997.91s/it]"
     ]
    },
    {
     "name": "stdout",
     "output_type": "stream",
     "text": [
      "f1 score done\n",
      "PheKnowLator_v2_node2vec_Embeddings74.emb\n",
      "features done\n"
     ]
    },
    {
     "name": "stderr",
     "output_type": "stream",
     "text": [
      "\r",
      " 76%|███████▌  | 32/42 [6:14:47<6:23:50, 2303.03s/it]"
     ]
    },
    {
     "name": "stdout",
     "output_type": "stream",
     "text": [
      "f1 score done\n",
      "PheKnowLator_v2_node2vec_Embeddings102.emb\n",
      "features done\n"
     ]
    },
    {
     "name": "stderr",
     "output_type": "stream",
     "text": [
      "\r",
      " 83%|████████▎ | 35/42 [6:21:56<2:15:14, 1159.23s/it]"
     ]
    },
    {
     "name": "stdout",
     "output_type": "stream",
     "text": [
      "f1 score done\n",
      "PheKnowLator_v2_node2vec_Embeddings128.emb\n",
      "features done\n"
     ]
    },
    {
     "name": "stderr",
     "output_type": "stream",
     "text": [
      "\r",
      " 86%|████████▌ | 36/42 [6:29:57<1:42:16, 1022.74s/it]"
     ]
    },
    {
     "name": "stdout",
     "output_type": "stream",
     "text": [
      "f1 score done\n",
      "PheKnowLator_v2_node2vec_Embeddings114.emb\n",
      "features done\n"
     ]
    },
    {
     "name": "stderr",
     "output_type": "stream",
     "text": [
      "\r",
      " 88%|████████▊ | 37/42 [6:37:57<1:15:07, 901.59s/it] "
     ]
    },
    {
     "name": "stdout",
     "output_type": "stream",
     "text": [
      "f1 score done\n",
      "PheKnowLator_v2_node2vec_Embeddings10.emb\n",
      "features done\n"
     ]
    },
    {
     "name": "stderr",
     "output_type": "stream",
     "text": [
      "\r",
      " 90%|█████████ | 38/42 [6:39:34<47:06, 706.74s/it]  "
     ]
    },
    {
     "name": "stdout",
     "output_type": "stream",
     "text": [
      "f1 score done\n",
      "PheKnowLator_v2_node2vec_Embeddings38.emb\n",
      "features done\n"
     ]
    },
    {
     "name": "stderr",
     "output_type": "stream",
     "text": [
      "\r",
      " 93%|█████████▎| 39/42 [6:43:26<29:14, 584.80s/it]"
     ]
    },
    {
     "name": "stdout",
     "output_type": "stream",
     "text": [
      "f1 score done\n",
      "PheKnowLator_v2_node2vec_Embeddings14.emb\n",
      "features done\n"
     ]
    },
    {
     "name": "stderr",
     "output_type": "stream",
     "text": [
      "\r",
      " 95%|█████████▌| 40/42 [6:45:26<15:20, 460.10s/it]"
     ]
    },
    {
     "name": "stdout",
     "output_type": "stream",
     "text": [
      "f1 score done\n",
      "PheKnowLator_v2_node2vec_Embeddings110.emb\n",
      "features done\n"
     ]
    },
    {
     "name": "stderr",
     "output_type": "stream",
     "text": [
      "\r",
      " 98%|█████████▊| 41/42 [6:53:50<07:52, 472.33s/it]"
     ]
    },
    {
     "name": "stdout",
     "output_type": "stream",
     "text": [
      "f1 score done\n",
      "PheKnowLator_v2_node2vec_Embeddings106.emb\n",
      "features done\n"
     ]
    },
    {
     "name": "stderr",
     "output_type": "stream",
     "text": [
      "100%|██████████| 42/42 [7:01:59<00:00, 602.83s/it]"
     ]
    },
    {
     "name": "stdout",
     "output_type": "stream",
     "text": [
      "f1 score done\n"
     ]
    },
    {
     "name": "stderr",
     "output_type": "stream",
     "text": [
      "\n"
     ]
    },
    {
     "ename": "NameError",
     "evalue": "name 'plt' is not defined",
     "output_type": "error",
     "traceback": [
      "\u001b[0;31m---------------------------------------------------------------------------\u001b[0m",
      "\u001b[0;31mNameError\u001b[0m                                 Traceback (most recent call last)",
      "\u001b[0;32m<ipython-input-12-54f504f7e16e>\u001b[0m in \u001b[0;36m<module>\u001b[0;34m\u001b[0m\n\u001b[1;32m     49\u001b[0m         \u001b[0mf1_scores\u001b[0m\u001b[0;34m[\u001b[0m\u001b[0mint\u001b[0m\u001b[0;34m(\u001b[0m\u001b[0mdim\u001b[0m\u001b[0;34m)\u001b[0m\u001b[0;34m]\u001b[0m \u001b[0;34m=\u001b[0m \u001b[0mf1\u001b[0m\u001b[0;34m\u001b[0m\u001b[0;34m\u001b[0m\u001b[0m\n\u001b[1;32m     50\u001b[0m \u001b[0;34m\u001b[0m\u001b[0m\n\u001b[0;32m---> 51\u001b[0;31m \u001b[0mplot_f1_scores\u001b[0m\u001b[0;34m(\u001b[0m\u001b[0membeddings_files_dir\u001b[0m\u001b[0;34m,\u001b[0m\u001b[0mf1_scores\u001b[0m\u001b[0;34m)\u001b[0m\u001b[0;34m\u001b[0m\u001b[0;34m\u001b[0m\u001b[0m\n\u001b[0m\u001b[1;32m     52\u001b[0m \u001b[0;34m\u001b[0m\u001b[0m\n",
      "\u001b[0;32m<ipython-input-1-9dce7d51011b>\u001b[0m in \u001b[0;36mplot_f1_scores\u001b[0;34m(output_dir, f1_scores)\u001b[0m\n\u001b[1;32m     56\u001b[0m     \u001b[0mx\u001b[0m \u001b[0;34m=\u001b[0m \u001b[0;34m[\u001b[0m\u001b[0ma_tuple\u001b[0m\u001b[0;34m[\u001b[0m\u001b[0;36m0\u001b[0m\u001b[0;34m]\u001b[0m \u001b[0;32mfor\u001b[0m \u001b[0ma_tuple\u001b[0m \u001b[0;32min\u001b[0m \u001b[0msorted_f1_scores\u001b[0m\u001b[0;34m]\u001b[0m\u001b[0;34m\u001b[0m\u001b[0;34m\u001b[0m\u001b[0m\n\u001b[1;32m     57\u001b[0m     \u001b[0my\u001b[0m \u001b[0;34m=\u001b[0m \u001b[0;34m[\u001b[0m\u001b[0ma_tuple\u001b[0m\u001b[0;34m[\u001b[0m\u001b[0;36m1\u001b[0m\u001b[0;34m]\u001b[0m \u001b[0;32mfor\u001b[0m \u001b[0ma_tuple\u001b[0m \u001b[0;32min\u001b[0m \u001b[0msorted_f1_scores\u001b[0m\u001b[0;34m]\u001b[0m\u001b[0;34m\u001b[0m\u001b[0;34m\u001b[0m\u001b[0m\n\u001b[0;32m---> 58\u001b[0;31m     \u001b[0mplt\u001b[0m\u001b[0;34m.\u001b[0m\u001b[0mtitle\u001b[0m\u001b[0;34m(\u001b[0m\u001b[0;34m\"Parameter Sensitivity for PKL+GutMGene Vector Embeddings\"\u001b[0m\u001b[0;34m)\u001b[0m\u001b[0;34m\u001b[0m\u001b[0;34m\u001b[0m\u001b[0m\n\u001b[0m\u001b[1;32m     59\u001b[0m     \u001b[0mplt\u001b[0m\u001b[0;34m.\u001b[0m\u001b[0mxlabel\u001b[0m\u001b[0;34m(\u001b[0m\u001b[0;34m\"# Dimensions\"\u001b[0m\u001b[0;34m)\u001b[0m\u001b[0;34m\u001b[0m\u001b[0;34m\u001b[0m\u001b[0m\n\u001b[1;32m     60\u001b[0m     \u001b[0mplt\u001b[0m\u001b[0;34m.\u001b[0m\u001b[0mylabel\u001b[0m\u001b[0;34m(\u001b[0m\u001b[0;34m\"Macro-F1 Score\"\u001b[0m\u001b[0;34m)\u001b[0m\u001b[0;34m\u001b[0m\u001b[0;34m\u001b[0m\u001b[0m\n",
      "\u001b[0;31mNameError\u001b[0m: name 'plt' is not defined"
     ]
    }
   ],
   "source": [
    "#Run this for each embedding file, this will produce first plot of 1 embeddings file per dimension\n",
    "import os\n",
    "import pandas as pd\n",
    "import re\n",
    "import matplotlib.pyplot as plt\n",
    "\n",
    "\n",
    "identifier_json = '/Users/brooksantangelo/Documents/Rotation2/Rocky/PKL_Additions/GutMGene/PheKnowLator_v2.1.0_full_instance_relationsOnly_OWLNETS_Triples_Integer_Identifier_Map_withGutMGene_withMicrobes.json'\n",
    "\n",
    "\n",
    "f = open(identifier_json)\n",
    "#Dictionary of uri's as keys and integers as values\n",
    "iden = json.load(f)\n",
    "\n",
    "#Subset dictionary to only nodes in edgelist\n",
    "#column_values = edgelist_test[['Subject','Object']].values.ravel()\n",
    "#unique_nodes = pd.unique(column_values)\n",
    "\n",
    "iden_subset = {key: value for key, value in iden.items() if value in unique_nodes}\n",
    "\n",
    "\n",
    "label_names = ['HP_','GO_','MONDO_','VO_','CHEBI_','UBERON_','CLO_','PR_','SO_','PW_','NCBITaxon_',\n",
    "               'gene','ensembl','snp','reactome','cellline','PheKnowLator','CL_','MOD_',\n",
    "               'PATO_','snomedct','DOID_','CARO_','GNO_','EFO_','FAKEURI','NBO_','MPATH_',\n",
    "              'BFO_','FOODON_','ECTO_','OGG_','HsapDv_','ExO_','PO_','FMA_','MF_','PCO_','EVS/',\n",
    "               'NCIT_','CP_','MFOEM_','UMLS_','OAE_','OGMS_','MFOMD_','IDO_','FBbt_','UPHENO_','OBA','fma#']\n",
    "\n",
    "\n",
    "embeddings_files_dir = '/Users/brooksantangelo/Documents/Rotation2/Rocky/PKL_Additions/GutMGene/Node2Vec_DimensionCheck/'\n",
    "\n",
    "#Classes are the same for all embeddings files\n",
    "classes,unknown_uris = get_classes(iden_subset,label_names)\n",
    "\n",
    "#Store all f1 scores\n",
    "f1_scores = {}\n",
    "\n",
    "os.chdir(embeddings_files_dir)\n",
    "\n",
    "#for i in range(0,3):\n",
    "for filename in tqdm(os.listdir(embeddings_files_dir)):\n",
    "    if filename.endswith(('.emb')):\n",
    "        print(filename)\n",
    "\n",
    "        features = get_features(filename,iden_subset)\n",
    "        print('features done')\n",
    "\n",
    "        f1 = get_f1_score(features,classes)\n",
    "        print('f1 score done')\n",
    "        dim = re.search(\"Embeddings(.*?).emb\", filename).group(1)\n",
    "        f1_scores[int(dim)] = f1\n",
    "\n",
    "plot_f1_scores(embeddings_files_dir,f1_scores)\n",
    "\n"
   ]
  },
  {
   "cell_type": "code",
   "execution_count": 13,
   "metadata": {},
   "outputs": [
    {
     "data": {
      "image/png": "[encoded data removed]",
      "text/plain": [
       "<Figure size 432x288 with 1 Axes>"
      ]
     },
     "metadata": {
      "needs_background": "light"
     },
     "output_type": "display_data"
    }
   ],
   "source": [
    "import matplotlib.pyplot as plt\n",
    "plot_f1_scores(embeddings_files_dir,f1_scores)"
   ]
  },
  {
   "cell_type": "code",
   "execution_count": 162,
   "metadata": {
    "scrolled": true
   },
   "outputs": [
    {
     "name": "stdout",
     "output_type": "stream",
     "text": [
      "/Users/brooksantangelo/Documents/Rotation2/Rocky/PKL_Additions/GutMGene/Node2Vec_DimensionCheck/0211Assertions\n"
     ]
    },
    {
     "name": "stderr",
     "output_type": "stream",
     "text": [
      "\r",
      "  0%|          | 0/73 [00:00<?, ?it/s]"
     ]
    },
    {
     "name": "stdout",
     "output_type": "stream",
     "text": [
      "PheKnowLator_v2_node2vec_Embeddings50_4.emb\n",
      "PheKnowLator_v2_node2vec_Embeddings50_1.emb\n",
      "PheKnowLator_v2_node2vec_Embeddings50_0.emb\n",
      "PheKnowLator_v2_node2vec_Embeddings50_0.emb\n",
      "features done\n"
     ]
    },
    {
     "name": "stderr",
     "output_type": "stream",
     "text": [
      "\r",
      " 23%|██▎       | 17/73 [04:44<15:35, 16.71s/it]"
     ]
    },
    {
     "name": "stdout",
     "output_type": "stream",
     "text": [
      "f1 score done\n",
      "PheKnowLator_v2_node2vec_Embeddings50_2.emb\n",
      "PheKnowLator_v2_node2vec_Embeddings50_3.emb\n",
      "F1_Scores_all&38_50_repeated.png\n",
      "PheKnowLator_v2_node2vec_Embeddings46_3.emb\n",
      "PheKnowLator_v2_node2vec_Embeddings46_2.emb\n",
      "PheKnowLator_v2_node2vec_Embeddings38_4.emb\n",
      "PheKnowLator_v2_node2vec_Embeddings42_4.emb\n",
      "PheKnowLator_v2_node2vec_Embeddings46_0.emb\n",
      "PheKnowLator_v2_node2vec_Embeddings46_0.emb\n",
      "features done\n"
     ]
    },
    {
     "name": "stderr",
     "output_type": "stream",
     "text": [
      "\r",
      " 53%|█████▎    | 39/73 [08:49<07:25, 13.09s/it]"
     ]
    },
    {
     "name": "stdout",
     "output_type": "stream",
     "text": [
      "f1 score done\n",
      "PheKnowLator_v2_node2vec_Embeddings46_1.emb\n",
      "PheKnowLator_v2_node2vec_Embeddings42_1.emb\n",
      "PheKnowLator_v2_node2vec_Embeddings38_3.emb\n",
      "PheKnowLator_v2_node2vec_Embeddings46_4.emb\n",
      "PheKnowLator_v2_node2vec_Embeddings38_2.emb\n",
      "PheKnowLator_v2_node2vec_Embeddings42_0.emb\n",
      "PheKnowLator_v2_node2vec_Embeddings42_0.emb\n",
      "features done\n"
     ]
    },
    {
     "name": "stderr",
     "output_type": "stream",
     "text": [
      "\r",
      " 71%|███████   | 52/73 [12:38<05:08, 14.71s/it]"
     ]
    },
    {
     "name": "stdout",
     "output_type": "stream",
     "text": [
      "f1 score done\n",
      "PheKnowLator_v2_node2vec_Embeddings42_2.emb\n",
      "PheKnowLator_v2_node2vec_Embeddings38_0.emb\n",
      "PheKnowLator_v2_node2vec_Embeddings38_0.emb\n",
      "features done\n"
     ]
    },
    {
     "name": "stderr",
     "output_type": "stream",
     "text": [
      "100%|██████████| 73/73 [16:17<00:00, 13.39s/it]\n"
     ]
    },
    {
     "name": "stdout",
     "output_type": "stream",
     "text": [
      "f1 score done\n",
      "PheKnowLator_v2_node2vec_Embeddings38_1.emb\n",
      "PheKnowLator_v2_node2vec_Embeddings42_3.emb\n",
      "defaultdict(<class 'list'>, {70: [0.22822693623396834, 0.2202929190154095, 0.21736088108724358, 0.23097475688483524, 0.233742948229737], 74: [0.2308240853453477, 0.23291376390062293, 0.2214643068550312, 0.22589441553369097, 0.23728870221518072], 66: [0.22623212050255742, 0.22848934939308513, 0.22153813643050635, 0.23063294811479051, 0.21304742826978584], 82: [0.23830311106096197, 0.25236690529401345, 0.2465617568913821, 0.24235428812118368, 0.24054336997781922], 78: [0.23567026557832552, 0.24047990384857337, 0.23221021756692425, 0.23553340120239935, 0.22936302755714238], 50: [0.18264195661576232], 46: [0.19938220925319455], 42: [0.18642089623202449], 38: [0.1671837007008676]})\n"
     ]
    },
    {
     "name": "stderr",
     "output_type": "stream",
     "text": [
      "\r",
      "  0%|          | 0/73 [00:00<?, ?it/s]"
     ]
    },
    {
     "name": "stdout",
     "output_type": "stream",
     "text": [
      "PheKnowLator_v2_node2vec_Embeddings50_4.emb\n",
      "PheKnowLator_v2_node2vec_Embeddings50_1.emb\n",
      "PheKnowLator_v2_node2vec_Embeddings50_1.emb\n",
      "features done\n"
     ]
    },
    {
     "name": "stderr",
     "output_type": "stream",
     "text": [
      "\r",
      " 22%|██▏       | 16/73 [04:21<15:32, 16.36s/it]"
     ]
    },
    {
     "name": "stdout",
     "output_type": "stream",
     "text": [
      "f1 score done\n",
      "PheKnowLator_v2_node2vec_Embeddings50_0.emb\n",
      "PheKnowLator_v2_node2vec_Embeddings50_2.emb\n",
      "PheKnowLator_v2_node2vec_Embeddings50_3.emb\n",
      "F1_Scores_all&38_50_repeated.png\n",
      "PheKnowLator_v2_node2vec_Embeddings46_3.emb\n",
      "PheKnowLator_v2_node2vec_Embeddings46_2.emb\n",
      "PheKnowLator_v2_node2vec_Embeddings38_4.emb\n",
      "PheKnowLator_v2_node2vec_Embeddings42_4.emb\n",
      "PheKnowLator_v2_node2vec_Embeddings46_0.emb\n",
      "PheKnowLator_v2_node2vec_Embeddings46_1.emb\n",
      "PheKnowLator_v2_node2vec_Embeddings46_1.emb\n",
      "features done\n"
     ]
    },
    {
     "name": "stderr",
     "output_type": "stream",
     "text": [
      "\r",
      " 56%|█████▌    | 41/73 [08:32<06:23, 12.00s/it]"
     ]
    },
    {
     "name": "stdout",
     "output_type": "stream",
     "text": [
      "f1 score done\n",
      "PheKnowLator_v2_node2vec_Embeddings42_1.emb\n",
      "PheKnowLator_v2_node2vec_Embeddings42_1.emb\n",
      "features done\n"
     ]
    },
    {
     "name": "stderr",
     "output_type": "stream",
     "text": [
      "\r",
      " 59%|█████▉    | 43/73 [13:54<11:25, 22.87s/it]"
     ]
    },
    {
     "name": "stdout",
     "output_type": "stream",
     "text": [
      "f1 score done\n",
      "PheKnowLator_v2_node2vec_Embeddings38_3.emb\n",
      "PheKnowLator_v2_node2vec_Embeddings46_4.emb\n",
      "PheKnowLator_v2_node2vec_Embeddings38_2.emb\n",
      "PheKnowLator_v2_node2vec_Embeddings42_0.emb\n",
      "PheKnowLator_v2_node2vec_Embeddings42_2.emb\n",
      "PheKnowLator_v2_node2vec_Embeddings38_0.emb\n",
      "PheKnowLator_v2_node2vec_Embeddings38_1.emb\n",
      "PheKnowLator_v2_node2vec_Embeddings38_1.emb\n",
      "features done\n"
     ]
    },
    {
     "name": "stderr",
     "output_type": "stream",
     "text": [
      "100%|██████████| 73/73 [18:30<00:00, 15.21s/it]\n"
     ]
    },
    {
     "name": "stdout",
     "output_type": "stream",
     "text": [
      "f1 score done\n",
      "PheKnowLator_v2_node2vec_Embeddings42_3.emb\n",
      "defaultdict(<class 'list'>, {70: [0.22822693623396834, 0.2202929190154095, 0.21736088108724358, 0.23097475688483524, 0.233742948229737], 74: [0.2308240853453477, 0.23291376390062293, 0.2214643068550312, 0.22589441553369097, 0.23728870221518072], 66: [0.22623212050255742, 0.22848934939308513, 0.22153813643050635, 0.23063294811479051, 0.21304742826978584], 82: [0.23830311106096197, 0.25236690529401345, 0.2465617568913821, 0.24235428812118368, 0.24054336997781922], 78: [0.23567026557832552, 0.24047990384857337, 0.23221021756692425, 0.23553340120239935, 0.22936302755714238], 50: [0.18264195661576232, 0.1940106195456298], 46: [0.19938220925319455, 0.19388912610167816], 42: [0.18642089623202449, 0.19115907335089233], 38: [0.1671837007008676, 0.1649501025362731]})\n"
     ]
    },
    {
     "name": "stderr",
     "output_type": "stream",
     "text": [
      "\r",
      "  0%|          | 0/73 [00:00<?, ?it/s]"
     ]
    },
    {
     "name": "stdout",
     "output_type": "stream",
     "text": [
      "PheKnowLator_v2_node2vec_Embeddings50_4.emb\n",
      "PheKnowLator_v2_node2vec_Embeddings50_1.emb\n",
      "PheKnowLator_v2_node2vec_Embeddings50_0.emb\n",
      "PheKnowLator_v2_node2vec_Embeddings50_2.emb\n",
      "PheKnowLator_v2_node2vec_Embeddings50_2.emb\n",
      "features done\n"
     ]
    },
    {
     "name": "stderr",
     "output_type": "stream",
     "text": [
      "\r",
      " 30%|███       | 22/73 [07:15<16:50, 19.82s/it]"
     ]
    },
    {
     "name": "stdout",
     "output_type": "stream",
     "text": [
      "f1 score done\n",
      "PheKnowLator_v2_node2vec_Embeddings50_3.emb\n",
      "F1_Scores_all&38_50_repeated.png\n",
      "PheKnowLator_v2_node2vec_Embeddings46_3.emb\n",
      "PheKnowLator_v2_node2vec_Embeddings46_2.emb\n",
      "PheKnowLator_v2_node2vec_Embeddings46_2.emb\n",
      "features done\n"
     ]
    },
    {
     "name": "stderr",
     "output_type": "stream",
     "text": [
      "\r",
      " 48%|████▊     | 35/73 [14:18<16:13, 25.62s/it]"
     ]
    },
    {
     "name": "stdout",
     "output_type": "stream",
     "text": [
      "f1 score done\n",
      "PheKnowLator_v2_node2vec_Embeddings38_4.emb\n",
      "PheKnowLator_v2_node2vec_Embeddings42_4.emb\n",
      "PheKnowLator_v2_node2vec_Embeddings46_0.emb\n",
      "PheKnowLator_v2_node2vec_Embeddings46_1.emb\n",
      "PheKnowLator_v2_node2vec_Embeddings42_1.emb\n",
      "PheKnowLator_v2_node2vec_Embeddings38_3.emb\n",
      "PheKnowLator_v2_node2vec_Embeddings46_4.emb\n",
      "PheKnowLator_v2_node2vec_Embeddings38_2.emb\n",
      "PheKnowLator_v2_node2vec_Embeddings38_2.emb\n",
      "features done\n"
     ]
    },
    {
     "name": "stderr",
     "output_type": "stream",
     "text": [
      "\r",
      " 68%|██████▊   | 50/73 [19:39<09:07, 23.81s/it]"
     ]
    },
    {
     "name": "stdout",
     "output_type": "stream",
     "text": [
      "f1 score done\n",
      "PheKnowLator_v2_node2vec_Embeddings42_0.emb\n",
      "PheKnowLator_v2_node2vec_Embeddings42_2.emb\n",
      "PheKnowLator_v2_node2vec_Embeddings42_2.emb\n",
      "features done\n"
     ]
    },
    {
     "name": "stderr",
     "output_type": "stream",
     "text": [
      "100%|██████████| 73/73 [25:45<00:00, 21.17s/it]\n"
     ]
    },
    {
     "name": "stdout",
     "output_type": "stream",
     "text": [
      "f1 score done\n",
      "PheKnowLator_v2_node2vec_Embeddings38_0.emb\n",
      "PheKnowLator_v2_node2vec_Embeddings38_1.emb\n",
      "PheKnowLator_v2_node2vec_Embeddings42_3.emb\n",
      "defaultdict(<class 'list'>, {70: [0.22822693623396834, 0.2202929190154095, 0.21736088108724358, 0.23097475688483524, 0.233742948229737], 74: [0.2308240853453477, 0.23291376390062293, 0.2214643068550312, 0.22589441553369097, 0.23728870221518072], 66: [0.22623212050255742, 0.22848934939308513, 0.22153813643050635, 0.23063294811479051, 0.21304742826978584], 82: [0.23830311106096197, 0.25236690529401345, 0.2465617568913821, 0.24235428812118368, 0.24054336997781922], 78: [0.23567026557832552, 0.24047990384857337, 0.23221021756692425, 0.23553340120239935, 0.22936302755714238], 50: [0.18264195661576232, 0.1940106195456298, 0.1869947560674183], 46: [0.19938220925319455, 0.19388912610167816, 0.18097124646223006], 42: [0.18642089623202449, 0.19115907335089233, 0.1899268787777346], 38: [0.1671837007008676, 0.1649501025362731, 0.17044699101690242]})\n"
     ]
    },
    {
     "name": "stderr",
     "output_type": "stream",
     "text": [
      "\r",
      "  0%|          | 0/73 [00:00<?, ?it/s]"
     ]
    },
    {
     "name": "stdout",
     "output_type": "stream",
     "text": [
      "PheKnowLator_v2_node2vec_Embeddings50_4.emb\n",
      "PheKnowLator_v2_node2vec_Embeddings50_1.emb\n",
      "PheKnowLator_v2_node2vec_Embeddings50_0.emb\n",
      "PheKnowLator_v2_node2vec_Embeddings50_2.emb\n",
      "PheKnowLator_v2_node2vec_Embeddings50_3.emb\n",
      "PheKnowLator_v2_node2vec_Embeddings50_3.emb\n",
      "features done\n"
     ]
    },
    {
     "name": "stderr",
     "output_type": "stream",
     "text": [
      "\r",
      " 32%|███▏      | 23/73 [08:23<18:13, 21.88s/it]"
     ]
    },
    {
     "name": "stdout",
     "output_type": "stream",
     "text": [
      "f1 score done\n",
      "F1_Scores_all&38_50_repeated.png\n",
      "PheKnowLator_v2_node2vec_Embeddings46_3.emb\n",
      "PheKnowLator_v2_node2vec_Embeddings46_3.emb\n",
      "features done\n"
     ]
    },
    {
     "name": "stderr",
     "output_type": "stream",
     "text": [
      "\r",
      " 45%|████▌     | 33/73 [19:02<25:19, 37.99s/it]"
     ]
    },
    {
     "name": "stdout",
     "output_type": "stream",
     "text": [
      "f1 score done\n",
      "PheKnowLator_v2_node2vec_Embeddings46_2.emb\n",
      "PheKnowLator_v2_node2vec_Embeddings38_4.emb\n",
      "PheKnowLator_v2_node2vec_Embeddings42_4.emb\n",
      "PheKnowLator_v2_node2vec_Embeddings46_0.emb\n",
      "PheKnowLator_v2_node2vec_Embeddings46_1.emb\n",
      "PheKnowLator_v2_node2vec_Embeddings42_1.emb\n",
      "PheKnowLator_v2_node2vec_Embeddings38_3.emb\n",
      "PheKnowLator_v2_node2vec_Embeddings38_3.emb\n",
      "features done\n"
     ]
    },
    {
     "name": "stderr",
     "output_type": "stream",
     "text": [
      "\r",
      " 62%|██████▏   | 45/73 [29:22<20:15, 43.40s/it]"
     ]
    },
    {
     "name": "stdout",
     "output_type": "stream",
     "text": [
      "f1 score done\n",
      "PheKnowLator_v2_node2vec_Embeddings46_4.emb\n",
      "PheKnowLator_v2_node2vec_Embeddings38_2.emb\n",
      "PheKnowLator_v2_node2vec_Embeddings42_0.emb\n",
      "PheKnowLator_v2_node2vec_Embeddings42_2.emb\n",
      "PheKnowLator_v2_node2vec_Embeddings38_0.emb\n",
      "PheKnowLator_v2_node2vec_Embeddings38_1.emb\n",
      "PheKnowLator_v2_node2vec_Embeddings42_3.emb\n",
      "PheKnowLator_v2_node2vec_Embeddings42_3.emb\n",
      "features done\n"
     ]
    },
    {
     "name": "stderr",
     "output_type": "stream",
     "text": [
      "100%|██████████| 73/73 [40:56<00:00, 33.65s/it]\n"
     ]
    },
    {
     "name": "stdout",
     "output_type": "stream",
     "text": [
      "f1 score done\n",
      "defaultdict(<class 'list'>, {70: [0.22822693623396834, 0.2202929190154095, 0.21736088108724358, 0.23097475688483524, 0.233742948229737], 74: [0.2308240853453477, 0.23291376390062293, 0.2214643068550312, 0.22589441553369097, 0.23728870221518072], 66: [0.22623212050255742, 0.22848934939308513, 0.22153813643050635, 0.23063294811479051, 0.21304742826978584], 82: [0.23830311106096197, 0.25236690529401345, 0.2465617568913821, 0.24235428812118368, 0.24054336997781922], 78: [0.23567026557832552, 0.24047990384857337, 0.23221021756692425, 0.23553340120239935, 0.22936302755714238], 50: [0.18264195661576232, 0.1940106195456298, 0.1869947560674183, 0.2027014190795485], 46: [0.19938220925319455, 0.19388912610167816, 0.18097124646223006, 0.18420362483034405], 42: [0.18642089623202449, 0.19115907335089233, 0.1899268787777346, 0.1801182965668161], 38: [0.1671837007008676, 0.1649501025362731, 0.17044699101690242, 0.15925435634434895]})\n"
     ]
    },
    {
     "name": "stderr",
     "output_type": "stream",
     "text": [
      "\r",
      "  0%|          | 0/73 [00:00<?, ?it/s]"
     ]
    },
    {
     "name": "stdout",
     "output_type": "stream",
     "text": [
      "PheKnowLator_v2_node2vec_Embeddings50_4.emb\n",
      "PheKnowLator_v2_node2vec_Embeddings50_4.emb\n",
      "features done\n"
     ]
    },
    {
     "name": "stderr",
     "output_type": "stream",
     "text": [
      "\r",
      " 10%|▉         | 7/73 [08:50<1:23:23, 75.80s/it]"
     ]
    },
    {
     "name": "stdout",
     "output_type": "stream",
     "text": [
      "f1 score done\n",
      "PheKnowLator_v2_node2vec_Embeddings50_1.emb\n",
      "PheKnowLator_v2_node2vec_Embeddings50_0.emb\n",
      "PheKnowLator_v2_node2vec_Embeddings50_2.emb\n",
      "PheKnowLator_v2_node2vec_Embeddings50_3.emb\n",
      "F1_Scores_all&38_50_repeated.png\n",
      "PheKnowLator_v2_node2vec_Embeddings46_3.emb\n",
      "PheKnowLator_v2_node2vec_Embeddings46_2.emb\n",
      "PheKnowLator_v2_node2vec_Embeddings38_4.emb\n",
      "PheKnowLator_v2_node2vec_Embeddings38_4.emb\n",
      "features done\n"
     ]
    },
    {
     "name": "stderr",
     "output_type": "stream",
     "text": [
      "\r",
      " 49%|████▉     | 36/73 [13:25<11:45, 19.06s/it] "
     ]
    },
    {
     "name": "stdout",
     "output_type": "stream",
     "text": [
      "f1 score done\n",
      "PheKnowLator_v2_node2vec_Embeddings42_4.emb\n",
      "PheKnowLator_v2_node2vec_Embeddings42_4.emb\n",
      "features done\n"
     ]
    },
    {
     "name": "stderr",
     "output_type": "stream",
     "text": [
      "\r",
      " 51%|█████     | 37/73 [18:51<18:53, 31.49s/it]"
     ]
    },
    {
     "name": "stdout",
     "output_type": "stream",
     "text": [
      "f1 score done\n",
      "PheKnowLator_v2_node2vec_Embeddings46_0.emb\n",
      "PheKnowLator_v2_node2vec_Embeddings46_1.emb\n",
      "PheKnowLator_v2_node2vec_Embeddings42_1.emb\n",
      "PheKnowLator_v2_node2vec_Embeddings38_3.emb\n",
      "PheKnowLator_v2_node2vec_Embeddings46_4.emb\n",
      "PheKnowLator_v2_node2vec_Embeddings46_4.emb\n",
      "features done\n"
     ]
    },
    {
     "name": "stderr",
     "output_type": "stream",
     "text": [
      "100%|██████████| 73/73 [24:13<00:00, 19.92s/it]"
     ]
    },
    {
     "name": "stdout",
     "output_type": "stream",
     "text": [
      "f1 score done\n",
      "PheKnowLator_v2_node2vec_Embeddings38_2.emb\n",
      "PheKnowLator_v2_node2vec_Embeddings42_0.emb\n",
      "PheKnowLator_v2_node2vec_Embeddings42_2.emb\n",
      "PheKnowLator_v2_node2vec_Embeddings38_0.emb\n",
      "PheKnowLator_v2_node2vec_Embeddings38_1.emb\n",
      "PheKnowLator_v2_node2vec_Embeddings42_3.emb\n",
      "defaultdict(<class 'list'>, {70: [0.22822693623396834, 0.2202929190154095, 0.21736088108724358, 0.23097475688483524, 0.233742948229737], 74: [0.2308240853453477, 0.23291376390062293, 0.2214643068550312, 0.22589441553369097, 0.23728870221518072], 66: [0.22623212050255742, 0.22848934939308513, 0.22153813643050635, 0.23063294811479051, 0.21304742826978584], 82: [0.23830311106096197, 0.25236690529401345, 0.2465617568913821, 0.24235428812118368, 0.24054336997781922], 78: [0.23567026557832552, 0.24047990384857337, 0.23221021756692425, 0.23553340120239935, 0.22936302755714238], 50: [0.18264195661576232, 0.1940106195456298, 0.1869947560674183, 0.2027014190795485, 0.1865507344879969], 46: [0.19938220925319455, 0.19388912610167816, 0.18097124646223006, 0.18420362483034405, 0.19119679142086923], 42: [0.18642089623202449, 0.19115907335089233, 0.1899268787777346, 0.1801182965668161, 0.19436218278554088], 38: [0.1671837007008676, 0.1649501025362731, 0.17044699101690242, 0.15925435634434895, 0.1643412659821748]})\n",
      "final:  defaultdict(<class 'list'>, {70: [0.22822693623396834, 0.2202929190154095, 0.21736088108724358, 0.23097475688483524, 0.233742948229737], 74: [0.2308240853453477, 0.23291376390062293, 0.2214643068550312, 0.22589441553369097, 0.23728870221518072], 66: [0.22623212050255742, 0.22848934939308513, 0.22153813643050635, 0.23063294811479051, 0.21304742826978584], 82: [0.23830311106096197, 0.25236690529401345, 0.2465617568913821, 0.24235428812118368, 0.24054336997781922], 78: [0.23567026557832552, 0.24047990384857337, 0.23221021756692425, 0.23553340120239935, 0.22936302755714238], 50: [0.18264195661576232, 0.1940106195456298, 0.1869947560674183, 0.2027014190795485, 0.1865507344879969], 46: [0.19938220925319455, 0.19388912610167816, 0.18097124646223006, 0.18420362483034405, 0.19119679142086923], 42: [0.18642089623202449, 0.19115907335089233, 0.1899268787777346, 0.1801182965668161, 0.19436218278554088], 38: [0.1671837007008676, 0.1649501025362731, 0.17044699101690242, 0.15925435634434895, 0.1643412659821748]})\n"
     ]
    },
    {
     "name": "stderr",
     "output_type": "stream",
     "text": [
      "\n"
     ]
    }
   ],
   "source": [
    "#Look at variations of emb file since Node2Vec is random walk\n",
    "from collections import defaultdict\n",
    "\n",
    "#Store all f1 scores\n",
    "#f1_scores_repeated = defaultdict(list)\n",
    "\n",
    "f1_scores_repeated[38] = []\n",
    "f1_scores_repeated[42] = []\n",
    "f1_scores_repeated[46] = []\n",
    "f1_scores_repeated[50] = []\n",
    "os.chdir(embeddings_files_dir)\n",
    "print(embeddings_files_dir)\n",
    "\n",
    "for i in range(0,5):\n",
    "    for filename in tqdm(os.listdir(embeddings_files_dir)):\n",
    "        if '38' in filename or '42' in filename or '46' in filename or '50' in filename:\n",
    "            #if '_3.emb' in filename or '_4.emb' in filename:\n",
    "            print(filename)\n",
    "            end_str = '_{}.emb'\n",
    "            end_str = end_str.format(i)\n",
    "            if filename.endswith(end_str):\n",
    "                print(filename)\n",
    "\n",
    "                features = get_features(filename,iden_subset)\n",
    "                print('features done')\n",
    "\n",
    "                f1 = get_f1_score(features,classes)\n",
    "                print('f1 score done') \n",
    "                dim = re.search(\"Embeddings(.*?).emb\", filename).group(1).split(\"_\")[0]\n",
    "                f1_scores_repeated[int(dim)].append(f1)\n",
    "            \n",
    "    print(f1_scores_repeated)\n",
    "\n",
    "print('final: ',f1_scores_repeated)"
   ]
  },
  {
   "cell_type": "code",
   "execution_count": 163,
   "metadata": {
    "scrolled": true
   },
   "outputs": [
    {
     "name": "stdout",
     "output_type": "stream",
     "text": [
      "{122: 0.2625030253004353, 26: 0.14303966465350906, 2: 0.05274351308798768, 18: 0.12035274427796422, 30: 0.15024947851754572, 118: 0.2651474108410458, 34: 0.1561899172274464, 6: 0.06807209199411111, 22: 0.1313964645127137, 126: 0.27065589462765033, 86: 0.24333227922850947, 78: 0.23465136315067298, 50: 0.19057989715927115, 46: 0.1899285996136632, 90: 0.2528511117202387, 94: 0.2508706860111124, 42: 0.18839746554260167, 54: 0.1999672810715788, 82: 0.2440258862690721, 70: 0.22611968829023874, 58: 0.2147382547543983, 98: 0.25538080630545795, 66: 0.22398799654214505, 62: 0.21996253466734397, 74: 0.22967705476997471, 102: 0.25191436255164656, 128: 0.271643762128201, 114: 0.25904420023531316, 10: 0.08264407497855905, 38: 0.16523528331611337, 14: 0.09084604932990571, 110: 0.2726869572805966, 106: 0.2561212506129392}\n"
     ]
    }
   ],
   "source": [
    "#Replace repeated dimensions value with average of all iterations\n",
    "from statistics import mean\n",
    "\n",
    "f1_scores_averaged = copy.deepcopy(f1_scores)\n",
    "\n",
    "for i in list(f1_scores_repeated.keys()):\n",
    "    f1_scores_averaged[i] = mean(f1_scores_repeated[i])\n",
    "    \n",
    "print(f1_scores_averaged)"
   ]
  },
  {
   "cell_type": "code",
   "execution_count": 143,
   "metadata": {},
   "outputs": [
    {
     "name": "stdout",
     "output_type": "stream",
     "text": [
      "[38, 42, 46, 50, 66, 70, 74, 78, 82]\n"
     ]
    }
   ],
   "source": [
    "print(sorted(list(f1_scores_repeated.keys())))"
   ]
  },
  {
   "cell_type": "code",
   "execution_count": 161,
   "metadata": {},
   "outputs": [
    {
     "name": "stdout",
     "output_type": "stream",
     "text": [
      "defaultdict(<class 'list'>, {70: [0.22822693623396834, 0.2202929190154095, 0.21736088108724358, 0.23097475688483524, 0.233742948229737], 74: [0.2308240853453477, 0.23291376390062293, 0.2214643068550312, 0.22589441553369097, 0.23728870221518072], 66: [0.22623212050255742, 0.22848934939308513, 0.22153813643050635, 0.23063294811479051, 0.21304742826978584], 82: [0.23830311106096197, 0.25236690529401345, 0.2465617568913821, 0.24235428812118368, 0.24054336997781922], 78: [0.23567026557832552, 0.24047990384857337, 0.23221021756692425, 0.23553340120239935, 0.22936302755714238], 50: [0.18264195661576232, 0.1940106195456298, 0.1869947560674183, 0.1865507344879969, 0.2027014190795485, 0.1865507344879969, 0.2027014190795485, 0.1865507344879969, 0.2027014190795485], 46: [0.19938220925319455, 0.19388912610167816, 0.18097124646223006, 0.18420362483034405, 0.19119679142086923, 0.18420362483034405, 0.19119679142086923, 0.18420362483034405, 0.19119679142086923], 42: [0.18642089623202449, 0.19115907335089233, 0.1899268787777346, 0.19436218278554088, 0.1801182965668161, 0.19436218278554088, 0.1801182965668161, 0.19436218278554088, 0.1801182965668161], 38: [0.1671837007008676, 0.1649501025362731, 0.17044699101690242, 0.1643412659821748, 0.15925435634434895, 0.1643412659821748, 0.15925435634434895, 0.1643412659821748, 0.15925435634434895]})\n"
     ]
    }
   ],
   "source": [
    "print(f1_scores_repeated)"
   ]
  },
  {
   "cell_type": "code",
   "execution_count": 234,
   "metadata": {
    "scrolled": true
   },
   "outputs": [
    {
     "name": "stdout",
     "output_type": "stream",
     "text": [
      "[2, 6, 10, 14, 18, 22, 26, 30, 34, 38, 42, 46, 50, 54, 58, 62, 66, 70, 74, 78, 82, 86, 90, 94, 98, 102, 106, 110, 114, 118, 122, 126, 128]\n"
     ]
    },
    {
     "data": {
      "image/png": "[encoded data removed]",
      "text/plain": [
       "<Figure size 576x396 with 1 Axes>"
      ]
     },
     "metadata": {},
     "output_type": "display_data"
    }
   ],
   "source": [
    "#Plot multiple lines per graph from defaultdict\n",
    "\n",
    "embeddings_files_dir = '/Users/brooksantangelo/Documents/Rotation2/Rocky/PKL_Additions/GutMGene/Node2Vec_DimensionCheck/0211Assertions'\n",
    "\n",
    "#Get f1 scores for other dimensions in graph\n",
    "#dictionary_items = f1_scores.items()\n",
    "dictionary_items = f1_scores_averaged.items()\n",
    "sorted_f1_scores = sorted(dictionary_items)\n",
    "dimensions = list(map(lambda x: x[0], sorted_f1_scores))\n",
    "print(dimensions)\n",
    "\n",
    "ymin_err = {}\n",
    "ymax_err = {}\n",
    "for i in range(len(dimensions)):\n",
    "    ymin_err[dimensions[i]] = 0\n",
    "    ymax_err[dimensions[i]] = 0\n",
    "\n",
    " #Sort dimensions from lowest to highest for plot\n",
    "dictionary_items = f1_scores_repeated.items()\n",
    "sorted_f1_scores_repeated = sorted(dictionary_items)\n",
    "\n",
    "repeated_dimensions_add_to_start = [9,9,9,9,12,12,12,12,12]\n",
    "sorted_f1_scores_averaged = sorted(f1_scores_averaged)\n",
    "\n",
    "#All minimum values for repeated dimensions in order\n",
    "ymin_tuple = [(dim, min(lst)) for dim, lst in sorted_f1_scores_repeated]\n",
    "ymin = [tup[1] for tup in ymin_tuple]\n",
    "for i in range(len(ymin)):\n",
    "    #ymin_err[sorted_f1_scores_repeated[i][0]] = ((ymin[i] - sorted_f1_scores_repeated[i][1][0])*-1)\n",
    "    ymin_err[sorted_f1_scores_repeated[i][0]] = ((ymin[i] - f1_scores_averaged[sorted_f1_scores_averaged[repeated_dimensions_add_to_start[i]+i]])*-1)\n",
    "#All maximum values for repeated dimensions in order\n",
    "ymax_tuple = [(dim, max(lst)) for dim, lst in sorted_f1_scores_repeated]\n",
    "ymax = [tup[1] for tup in ymax_tuple]\n",
    "for i in range(len(ymax)):\n",
    "    #ymax_err[sorted_f1_scores_repeated[i][0]] = (ymax[i] - sorted_f1_scores_repeated[i][1][0])\n",
    "    ymax_err[sorted_f1_scores_repeated[i][0]] = (ymax[i] - f1_scores_averaged[sorted_f1_scores_averaged[repeated_dimensions_add_to_start[i]+i]])\n",
    "yerr = [list(ymin_err.values()),list(ymax_err.values())]\n",
    "\n",
    "\n",
    "x = [a_tuple[0] for a_tuple in sorted_f1_scores]\n",
    "y = [a_tuple[1] for a_tuple in sorted_f1_scores]\n",
    "\n",
    "plt.rc('axes',titlesize= 17,labelsize=15)\n",
    "plt.errorbar(x,y,yerr=yerr,color='lightseagreen')\n",
    "plt.scatter(x,y,color='lightseagreen')\n",
    "plt.title(\"Parameter Sensitivity for PKL+GutMGene Vector Embeddings\")\n",
    "plt.xlabel(\"# Dimensions\")\n",
    "plt.ylabel(\"Macro-F1 Score\")\n",
    "#plt.rc('xtick', labelsize=15) \n",
    "#plt.rc('ytick', labelsize=15) \n",
    "plt.grid(False)\n",
    "plt.savefig(embeddings_files_dir + 'F1_Scores_all_repeatednew.png')\n",
    "\n",
    "\n"
   ]
  },
  {
   "cell_type": "code",
   "execution_count": 174,
   "metadata": {},
   "outputs": [
    {
     "name": "stdout",
     "output_type": "stream",
     "text": [
      "{122: 0.2625030253004353, 26: 0.14303966465350906, 2: 0.05274351308798768, 18: 0.12035274427796422, 30: 0.15024947851754572, 118: 0.2651474108410458, 34: 0.1561899172274464, 6: 0.06807209199411111, 22: 0.1313964645127137, 126: 0.27065589462765033, 86: 0.24333227922850947, 78: 0.23465136315067298, 50: 0.19057989715927115, 46: 0.1899285996136632, 90: 0.2528511117202387, 94: 0.2508706860111124, 42: 0.18839746554260167, 54: 0.1999672810715788, 82: 0.2440258862690721, 70: 0.22611968829023874, 58: 0.2147382547543983, 98: 0.25538080630545795, 66: 0.22398799654214505, 62: 0.21996253466734397, 74: 0.22967705476997471, 102: 0.25191436255164656, 128: 0.271643762128201, 114: 0.25904420023531316, 10: 0.08264407497855905, 38: 0.16523528331611337, 14: 0.09084604932990571, 110: 0.2726869572805966, 106: 0.2561212506129392}\n",
      "[2, 6, 10, 14, 18, 22, 26, 30, 34, 38, 42, 46, 50, 54, 58, 62, 66, 70, 74, 78, 82, 86, 90, 94, 98, 102, 106, 110, 114, 118, 122, 126, 128]\n"
     ]
    }
   ],
   "source": [
    "print(f1_scores_averaged)\n",
    "print(sorted_f1_scores_averaged)"
   ]
  },
  {
   "cell_type": "code",
   "execution_count": 165,
   "metadata": {},
   "outputs": [
    {
     "name": "stdout",
     "output_type": "stream",
     "text": [
      "[0.15925435634434895, 0.1801182965668161, 0.18097124646223006, 0.18264195661576232, 0.21304742826978584, 0.21736088108724358, 0.2214643068550312, 0.22936302755714238, 0.23830311106096197]\n"
     ]
    }
   ],
   "source": [
    "print(ymin)"
   ]
  },
  {
   "cell_type": "code",
   "execution_count": 236,
   "metadata": {},
   "outputs": [
    {
     "data": {
      "image/png": "[encoded data removed]",
      "text/plain": [
       "<Figure size 576x396 with 1 Axes>"
      ]
     },
     "metadata": {},
     "output_type": "display_data"
    }
   ],
   "source": [
    "#Sort dimensions from lowest to highest for plot\n",
    "\n",
    "chosen_dimensions = [38,42,46,50]\n",
    "\n",
    "for i in range(len(sorted_f1_scores_repeated[0][1])):\n",
    "    #print(sorted_f1_scores_repeated[i][0])\n",
    "    if sorted_f1_scores_repeated[i][0] in chosen_dimensions:\n",
    "    #print(sorted_f1_scores_repeated[i][0])\n",
    "        x = [a_tuple[0] for a_tuple in sorted_f1_scores_repeated if a_tuple[0] in chosen_dimensions]\n",
    "        y = [a_tuple[1][i] for a_tuple in sorted_f1_scores_repeated if a_tuple[0] in chosen_dimensions]\n",
    "        plt.scatter(x,y)\n",
    "        plt.plot(x,y,label='Node2Vec Iteration '+str(i+1))\n",
    "        \n",
    "    \n",
    "plt.rc('axes',titlesize= 17,labelsize=15)\n",
    "plt.rc('legend',fontsize=15)\n",
    "plt.title(\"Parameter Sensitivity for PKL+GutMGene Vector Embeddings\")\n",
    "plt.xlabel(\"# Dimensions\")\n",
    "plt.ylabel(\"Macro-F1 Score\")\n",
    "plt.legend()\n",
    "plt.grid(False)\n",
    "plt.savefig(embeddings_files_dir + 'F1_Scores_38_50_repeated.png')\n",
    "\n"
   ]
  },
  {
   "cell_type": "code",
   "execution_count": 157,
   "metadata": {},
   "outputs": [
    {
     "name": "stdout",
     "output_type": "stream",
     "text": [
      "[(38, [0.1671837007008676, 0.1649501025362731, 0.17044699101690242, 0.1643412659821748, 0.15925435634434895, 0.1643412659821748, 0.15925435634434895, 0.1643412659821748, 0.15925435634434895]), (42, [0.18642089623202449, 0.19115907335089233, 0.1899268787777346, 0.19436218278554088, 0.1801182965668161, 0.19436218278554088, 0.1801182965668161, 0.19436218278554088, 0.1801182965668161]), (46, [0.19938220925319455, 0.19388912610167816, 0.18097124646223006, 0.18420362483034405, 0.19119679142086923, 0.18420362483034405, 0.19119679142086923, 0.18420362483034405, 0.19119679142086923]), (50, [0.18264195661576232, 0.1940106195456298, 0.1869947560674183, 0.1865507344879969, 0.2027014190795485, 0.1865507344879969, 0.2027014190795485, 0.1865507344879969, 0.2027014190795485]), (66, [0.22623212050255742, 0.22848934939308513, 0.22153813643050635, 0.23063294811479051, 0.21304742826978584]), (70, [0.22822693623396834, 0.2202929190154095, 0.21736088108724358, 0.23097475688483524, 0.233742948229737]), (74, [0.2308240853453477, 0.23291376390062293, 0.2214643068550312, 0.22589441553369097, 0.23728870221518072]), (78, [0.23567026557832552, 0.24047990384857337, 0.23221021756692425, 0.23553340120239935, 0.22936302755714238]), (82, [0.23830311106096197, 0.25236690529401345, 0.2465617568913821, 0.24235428812118368, 0.24054336997781922])]\n",
      "[0.1671837007008676, 0.1649501025362731, 0.17044699101690242, 0.1643412659821748, 0.15925435634434895, 0.1643412659821748, 0.15925435634434895, 0.1643412659821748, 0.15925435634434895]\n"
     ]
    }
   ],
   "source": [
    "print(sorted_f1_scores_repeated)\n",
    "print(sorted_f1_scores_repeated[0][1])"
   ]
  },
  {
   "cell_type": "code",
   "execution_count": 235,
   "metadata": {},
   "outputs": [
    {
     "name": "stdout",
     "output_type": "stream",
     "text": [
      "42\n",
      "42\n"
     ]
    },
    {
     "data": {
      "image/png": "[encoded data removed]",
      "text/plain": [
       "<Figure size 576x396 with 1 Axes>"
      ]
     },
     "metadata": {},
     "output_type": "display_data"
    }
   ],
   "source": [
    "from kneed import KneeLocator, DataGenerator\n",
    "'''\n",
    "a = [a_tuple[0] for a_tuple in sorted_f1_scores]\n",
    "b = [a_tuple[1] for a_tuple in sorted_f1_scores]\n",
    "print(a)\n",
    "print(b)\n",
    "del a[11:13]\n",
    "del b[11:13]\n",
    "print(a)\n",
    "print(b)\n",
    "\n",
    "plt.scatter(a,b)\n",
    "plt.title(\"Parameter Sensitivity for PKL+GutMGene Vector Embeddings\")\n",
    "plt.xlabel(\"# Dimensions\")\n",
    "plt.ylabel(\"Macro-F1 Score\")\n",
    "'''\n",
    "\n",
    "\n",
    "dictionary_items = f1_scores_averaged.items()\n",
    "sorted_f1_scores = sorted(dictionary_items)\n",
    "\n",
    "a = [a_tuple[0] for a_tuple in sorted_f1_scores]\n",
    "b = [a_tuple[1] for a_tuple in sorted_f1_scores]\n",
    "\n",
    "\n",
    "plt.rc('axes',titlesize= 17,labelsize=15)\n",
    "plt.scatter(a,b,color='lightseagreen')\n",
    "plt.plot(a,b,color='lightseagreen')\n",
    "plt.title(\"Parameter Sensitivity for PKL+GutMGene Vector Embeddings\")\n",
    "plt.xlabel(\"# Dimensions\")\n",
    "plt.ylabel(\"Macro-F1 Score\")\n",
    "plt.grid(False)\n",
    "\n",
    "plt.savefig(embeddings_files_dir + 'F1_Scores_all.png')\n",
    "\n",
    "\n",
    "k = KneeLocator(a,b,curve='concave',direction='increasing')\n",
    "print(round(k.knee, 3))\n",
    "print(round(k.elbow, 3))"
   ]
  },
  {
   "cell_type": "code",
   "execution_count": 66,
   "metadata": {},
   "outputs": [
    {
     "name": "stdout",
     "output_type": "stream",
     "text": [
      "[[ -0.98607355   9.55319617   3.60263268 ...   4.72442079 -10.23895268\n",
      "    8.91107166]\n",
      " [ -3.48301954  -3.28381631   6.25659168 ...  11.08367374   5.27024744\n",
      "   -4.66551824]\n",
      " [  5.80121889  -6.40530668  -7.45313369 ...  -5.69083886  -3.64631494\n",
      "   -1.64218255]\n",
      " ...\n",
      " [ -1.05579258  -6.22824408   7.15927423 ...   9.18857979   6.77532773\n",
      "   -6.14627356]\n",
      " [ -4.345403     9.52227746   3.53651223 ...   4.0625619   -8.66923363\n",
      "    9.1079225 ]\n",
      " [ -4.44248129  -7.75158626   2.18740289 ...   3.63464776  -4.760207\n",
      "    0.65090861]]\n",
      "[0 5 1 5 6 4 2 3 6 6 6 4 0 5 2 2 7 7 2 2 5 6 0 2 1 6 4 6 3 4 7 3 1 4 1 3 6\n",
      " 7 5 5 5 4 6 2 2 5 4 4 3 4 4 7 2 5 5 0 0 6 7 1 4 7 0 1 5 4 3 1 6 0 7 2 4 4\n",
      " 6 3 3 7 1 0 6 7 6 1 4 1 3 5 7 1 5 3 2 4 7 0 1 4 0 7 0 0 0 3 1 2 1 1 1 0 1\n",
      " 1 1 2 5 4 1 7 2 6 6 5 5 5 7 4 2 5 0 4 4 5 7 7 4 5 7 3 2 7 3 4 1 6 1 4 7 7\n",
      " 4 5 2 7 1 6 3 2 4 4 7 1 7 2 1 2 3 1 1 5 5 0 2 0 4 2 3 3 7 2 3 5 7 0 2 2 7\n",
      " 5 4 4 2 5 1 6 7 6 0 7 0 3 4 6 3 4 0 2 6 2 2 1 3 2 2 7 5 0 1 3 0 6 0 3 5 0\n",
      " 0 5 7 7 5 4 5 5 3 6 4 2 3 4 4 3 0 7 5 2 7 6 4 5 0 1 2 5 0 4 4 1 2 2 6 6 0\n",
      " 6 6 2 3 7 6 2 6 5 3 1 7 3 4 3 2 5 1 2 3 6 2 3 7 2 7 7 1 2 7 7 0 0 0 6 7 6\n",
      " 1 0 5 4 4 4 2 7 0 4 0 6 0 2 1 5 3 3 5 0 1 5 1 3 1 5 0 6 0 1 2 0 6 6 3 0 1\n",
      " 5 7 5 3 3 6 1 4 7 0 4 0 1 1 2 3 2 1 3 4 5 4 1 0 7 1 1 5 4 7 2 3 6 4 3 4 5\n",
      " 1 5 4 3 7 7 1 4 0 6 4 2 1 7 7 0 5 6 0 2 5 2 3 2 0 6 6 5 4 2 4 1 5 6 5 3 7\n",
      " 4 4 4 0 0 5 6 3 4 3 3 7 4 2 4 1 0 7 5 4 0 1 7 7 6 2 7 0 2 0 3 1 4 7 1 3 2\n",
      " 0 2 7 3 6 6 6 7 7 0 1 5 3 2 6 6 7 3 5 4 6 2 0 7 2 2 0 7 0 6 6 2 3 4 3 0 1\n",
      " 0 1 3 5 5 4 7 4 6 6 1 3 3 3 7 4 6 1 2 6 2 0 5 3 1 2 3 0 5 4 2 6 3 6 1 1 1\n",
      " 6 0 4 4 6 5 6 5 7 4 5 4 1 2 1 1 0 5 0 5 3 5 4 6 0 6 1 4 2 0 0 1 2 0 2 5 6\n",
      " 1 6 4 4 1 6 3 4 5 3 6 5 4 7 5 3 6 7 6 3 5 2 1 3 7 1 1 4 4 5 4 2 4 1 6 5 3\n",
      " 5 0 5 0 2 3 2 6 0 3 1 3 2 0 5 2 3 2 1 0 3 0 6 3 0 7 5 0 6 2 7 3 1 3 4 1 4\n",
      " 3 6 5 3 0 7 5 0 4 0 6 3 3 7 7 3 6 7 6 5 3 0 7 7 0 4 5 6 3 6 5 2 5 2 4 3 3\n",
      " 1 4 2 1 0 4 0 0 2 3 4 0 3 6 4 5 6 7 7 0 6 2 3 1 6 5 1 0 2 2 6 1 6 4 4 0 2\n",
      " 5 7 4 3 1 4 2 7 4 0 6 7 6 7 4 2 5 2 2 1 2 0 4 0 3 6 1 0 0 5 7 1 0 1 4 7 1\n",
      " 4 4 3 6 2 3 2 6 6 3 6 4 4 3 6 5 5 5 2 7 7 6 5 5 6 4 0 1 0 5 4 7 5 2 3 3 6\n",
      " 6 1 7 2 7 1 6 7 6 6 7 2 7 5 4 3 4 6 5 3 7 2 2 7 0 7 6 2 1 6 5 4 2 2 6 0 2\n",
      " 4 6 7 1 5 7 0 0 1 5 6 3 4 2 3 5 1 1 0 0 4 3 7 4 0 7 2 3 0 0 5 4 0 7 5 3 1\n",
      " 0 5 5 2 1 1 1 6 1 2 1 7 2 2 2 7 1 3 1 0 7 3 2 1 1 6 1 6 4 1 5 7 0 3 3 1 2\n",
      " 5 6 3 4 6 3 5 0 7 7 3 2 1 4 7 5 7 3 5 3 5 1 0 6 6 2 5 3 5 4 4 5 1 6 7 3 0\n",
      " 3 6 2 3 3 2 6 6 6 7 2 2 7 0 0 1 5 0 0 7 2 7 2 5 3 4 5 4 7 2 1 7 0 1 7 0 5\n",
      " 5 0 7 6 1 3 7 3 3 5 0 6 1 1 7 2 1 3 7 6 1 5 1 7 0 6 2 4 7 7 4 5 4 3 5 5 0\n",
      " 3]\n"
     ]
    },
    {
     "data": {
      "image/png": "[encoded data removed]",
      "text/plain": [
       "<Figure size 576x396 with 1 Axes>"
      ]
     },
     "metadata": {},
     "output_type": "display_data"
    },
    {
     "data": {
      "text/plain": [
       "<AxesSubplot:title={'center':'Calinski Harabasz Score Elbow for KMeans Clustering'}, xlabel='k', ylabel='calinski harabasz score'>"
      ]
     },
     "execution_count": 66,
     "metadata": {},
     "output_type": "execute_result"
    }
   ],
   "source": [
    "from sklearn.cluster import KMeans\n",
    "from sklearn.datasets import make_blobs\n",
    "\n",
    "from yellowbrick.cluster import KElbowVisualizer\n",
    "\n",
    "# Generate synthetic dataset with 8 random clusters\n",
    "X, y = make_blobs(n_samples=1000, n_features=12, centers=8, random_state=42)\n",
    "print(X)\n",
    "print(y)\n",
    "# Instantiate the clustering model and visualizer\n",
    "model = KMeans()\n",
    "visualizer = KElbowVisualizer(\n",
    "    model, k=(4,12), metric='calinski_harabasz', timings=False\n",
    ")\n",
    "\n",
    "visualizer.fit(X)        # Fit the data to the visualizer\n",
    "visualizer.show()"
   ]
  },
  {
   "cell_type": "code",
   "execution_count": 3,
   "metadata": {},
   "outputs": [
    {
     "ename": "NameError",
     "evalue": "name 'f1_scores' is not defined",
     "output_type": "error",
     "traceback": [
      "\u001b[0;31m---------------------------------------------------------------------------\u001b[0m",
      "\u001b[0;31mNameError\u001b[0m                                 Traceback (most recent call last)",
      "\u001b[0;32m<ipython-input-3-72ff95c75c46>\u001b[0m in \u001b[0;36m<module>\u001b[0;34m\u001b[0m\n\u001b[1;32m      1\u001b[0m \u001b[0;32mimport\u001b[0m \u001b[0mcopy\u001b[0m\u001b[0;34m\u001b[0m\u001b[0;34m\u001b[0m\u001b[0m\n\u001b[0;32m----> 2\u001b[0;31m \u001b[0mf1_scores_orig\u001b[0m \u001b[0;34m=\u001b[0m \u001b[0mcopy\u001b[0m\u001b[0;34m.\u001b[0m\u001b[0mdeepcopy\u001b[0m\u001b[0;34m(\u001b[0m\u001b[0mf1_scores\u001b[0m\u001b[0;34m)\u001b[0m\u001b[0;34m\u001b[0m\u001b[0;34m\u001b[0m\u001b[0m\n\u001b[0m\u001b[1;32m      3\u001b[0m \u001b[0mplot_f1_scores\u001b[0m\u001b[0;34m(\u001b[0m\u001b[0membeddings_files_dir\u001b[0m\u001b[0;34m,\u001b[0m\u001b[0mf1_scores_orig\u001b[0m\u001b[0;34m)\u001b[0m\u001b[0;34m\u001b[0m\u001b[0;34m\u001b[0m\u001b[0m\n",
      "\u001b[0;31mNameError\u001b[0m: name 'f1_scores' is not defined"
     ]
    }
   ],
   "source": [
    "import copy\n",
    "f1_scores_orig = copy.deepcopy(f1_scores)\n",
    "plot_f1_scores(embeddings_files_dir,f1_scores_orig)"
   ]
  },
  {
   "cell_type": "code",
   "execution_count": 203,
   "metadata": {},
   "outputs": [],
   "source": [
    "f1_scores[66] = f1_scores.pop('66') \n",
    "f1_scores[62] = f1_scores.pop('62') \n",
    "f1_scores[58] = f1_scores.pop('58') \n",
    "f1_scores[2] = f1_scores.pop('2') "
   ]
  },
  {
   "cell_type": "code",
   "execution_count": 204,
   "metadata": {},
   "outputs": [
    {
     "name": "stdout",
     "output_type": "stream",
     "text": [
      "{126: 0.2716488165248561, 2: 0.054629031470406195, 66: 0.21938738798160812, 30: 0.15330387258035577, 50: 0.19758000597441103, 90: 0.24429896838448031, 82: 0.24445237186966734, 70: 0.23624323627025892, 102: 0.26553615370050276, 62: 0.23854513515225956, 58: 0.2251327145771468}\n"
     ]
    }
   ],
   "source": [
    "print(f1_scores)"
   ]
  },
  {
   "cell_type": "code",
   "execution_count": 199,
   "metadata": {},
   "outputs": [
    {
     "name": "stdout",
     "output_type": "stream",
     "text": [
      "{126: 0.2716488165248561, 2: 0.054629031470406195, 66: 0.21938738798160812, 30: 0.15330387258035577, 50: 0.19758000597441103, 90: 0.24429896838448031, 82: 0.24445237186966734, 70: 0.23624323627025892, 102: 0.26553615370050276, '2': 0.054629031470406195}\n"
     ]
    }
   ],
   "source": [
    "print(f1_scores)"
   ]
  },
  {
   "cell_type": "code",
   "execution_count": 193,
   "metadata": {},
   "outputs": [
    {
     "name": "stdout",
     "output_type": "stream",
     "text": [
      "[(2, 0.054629031470406195), (30, 0.15330387258035577), (50, 0.19758000597441103), (66, 0.21938738798160812), (70, 0.23624323627025892), (82, 0.24445237186966734), (90, 0.24429896838448031), (102, 0.26553615370050276), (126, 0.2716488165248561)]\n"
     ]
    },
    {
     "data": {
      "text/plain": [
       "[<matplotlib.lines.Line2D at 0x7f9822c0f9a0>]"
      ]
     },
     "execution_count": 193,
     "metadata": {},
     "output_type": "execute_result"
    },
    {
     "data": {
      "image/png": "[encoded data removed]",
      "text/plain": [
       "<Figure size 432x288 with 1 Axes>"
      ]
     },
     "metadata": {
      "needs_background": "light"
     },
     "output_type": "display_data"
    }
   ],
   "source": [
    "import matplotlib.pyplot as plt\n",
    "import re\n",
    "\n",
    "\n",
    "#Sort dimensions from lowest to highest for plot\n",
    "dictionary_items = f1_scores.items()\n",
    "sorted_f1_scores = sorted(dictionary_items)\n",
    "\n",
    "x = [a_tuple[0] for a_tuple in sorted_f1_scores]\n",
    "y = [a_tuple[1] for a_tuple in sorted_f1_scores]\n",
    "plt.title(\"Parameter Sensitivity for PKL+GutMGene Vector Embeddings\")\n",
    "plt.xlabel(\"# Dimensions\")\n",
    "plt.ylabel(\"Macro-F1 Score\")\n",
    "plt.scatter(x,y)\n",
    "plt.plot(x,y)\n",
    "\n",
    "    "
   ]
  },
  {
   "cell_type": "code",
   "execution_count": 184,
   "metadata": {},
   "outputs": [
    {
     "name": "stdout",
     "output_type": "stream",
     "text": [
      "126\n"
     ]
    }
   ],
   "source": [
    "a = 'PheKnowLator_v2_node2vec_Embeddings126.emb'\n",
    "new = re.search(\"Embeddings(.*?).emb\", a).group(1)\n",
    "print(new) "
   ]
  },
  {
   "cell_type": "code",
   "execution_count": 197,
   "metadata": {},
   "outputs": [
    {
     "name": "stdout",
     "output_type": "stream",
     "text": [
      "{126: 0.2716488165248561, 2: 0.054629031470406195, 66: 0.21938738798160812, 30: 0.15330387258035577, 50: 0.19758000597441103, 90: 0.24429896838448031, 82: 0.24445237186966734, 70: 0.23624323627025892, 102: 0.26553615370050276}\n"
     ]
    }
   ],
   "source": [
    "\n",
    "print(f1_scores)"
   ]
  },
  {
   "cell_type": "code",
   "execution_count": 187,
   "metadata": {},
   "outputs": [],
   "source": [
    "f1_scores = {'PheKnowLator_v2_node2vec_Embeddings126.emb': 0.2716488165248561, 'PheKnowLator_v2_node2vec_Embeddings2.emb': 0.054629031470406195, 'PheKnowLator_v2_node2vec_Embeddings66.emb': 0.21938738798160812, 'PheKnowLator_v2_node2vec_Embeddings30.emb': 0.15330387258035577, 'PheKnowLator_v2_node2vec_Embeddings50.emb': 0.19758000597441103, 'PheKnowLator_v2_node2vec_Embeddings90.emb': 0.24429896838448031, 'PheKnowLator_v2_node2vec_Embeddings82.emb': 0.24445237186966734, 'PheKnowLator_v2_node2vec_Embeddings70.emb': 0.23624323627025892, 'PheKnowLator_v2_node2vec_Embeddings102.emb': 0.26553615370050276}"
   ]
  },
  {
   "cell_type": "code",
   "execution_count": 146,
   "metadata": {},
   "outputs": [
    {
     "name": "stdout",
     "output_type": "stream",
     "text": [
      "<http://ihtsdo.org/snomedct/anatomy#421466002>\n",
      "<http://ncicb.nci.nih.gov/xml/owl/EVS/Thesaurus.owl#Amniotic_Fluid>\n",
      "<http://ncicb.nci.nih.gov/xml/owl/EVS/Thesaurus.owl#Gonad>\n",
      "<http://sig.uw.edu/fma#Common_iliac_artery>\n",
      "<http://ncicb.nci.nih.gov/xml/owl/EVS/Thesaurus.owl#Iliac_Vein>\n",
      "<http://sig.uw.edu/fma#External_genitalia>\n",
      "<http://ncicb.nci.nih.gov/xml/owl/EVS/Thesaurus.owl#Amniotic_Sac>\n",
      "<http://sig.uw.edu/fma#Amnion>\n",
      "<http://sig.uw.edu/fma#Umbilicus>\n",
      "<http://sig.uw.edu/fma#Trachealis>\n",
      "<http://sig.uw.edu/fma#Scalp>\n",
      "<http://sig.uw.edu/fma#Iliac_crest>\n",
      "<http://sig.uw.edu/fma#Ischium>\n",
      "<http://sig.uw.edu/fma#Calcaneal_tendon>\n",
      "<http://ncicb.nci.nih.gov/xml/owl/EVS/Thesaurus.owl#Chorionic_Villus>\n",
      "<http://ncicb.nci.nih.gov/xml/owl/EVS/Thesaurus.owl#Embryonic_Fluid>\n",
      "<http://sig.uw.edu/fma#Tunica_albuginea_of_testis>\n",
      "<http://sig.uw.edu/fma#Right_ischium>\n"
     ]
    }
   ],
   "source": [
    "extra_names = ['snomedct', 'EVS/', 'fma#']\n",
    "\n",
    "for i in list(iden.keys()):\n",
    "    for j in extra_names:\n",
    "        if j in i:\n",
    "            print(i)"
   ]
  },
  {
   "cell_type": "code",
   "execution_count": 211,
   "metadata": {},
   "outputs": [
    {
     "data": {
      "image/png": "[encoded data removed]",
      "text/plain": [
       "<Figure size 360x252 with 1 Axes>"
      ]
     },
     "metadata": {},
     "output_type": "display_data"
    },
    {
     "data": {
      "image/png": "[encoded data removed]",
      "text/plain": [
       "<Figure size 360x252 with 1 Axes>"
      ]
     },
     "metadata": {},
     "output_type": "display_data"
    },
    {
     "data": {
      "image/png": "[encoded data removed]",
      "text/plain": [
       "<Figure size 360x252 with 1 Axes>"
      ]
     },
     "metadata": {},
     "output_type": "display_data"
    },
    {
     "data": {
      "image/png": "[encoded data removed]",
      "text/plain": [
       "<Figure size 360x252 with 1 Axes>"
      ]
     },
     "metadata": {},
     "output_type": "display_data"
    }
   ],
   "source": [
    "import matplotlib.pyplot as plt\n",
    "#looking at Pubmed search from 3/3/2020\n",
    "pubmed_gm_file = '/Users/brooksantangelo/Documents/HunterLab/Exploration/GastrointestinalMicrobiomePubMed_Timeline_Results_by_Year.csv'\n",
    "pubmed_gmR_file = '/Users/brooksantangelo/Documents/HunterLab/Exploration/GastrointestinalMicrobiomeReviewsPubMed_Timeline_Results_by_Year.csv'\n",
    "pubmed_gmnd_file = '/Users/brooksantangelo/Documents/HunterLab/Exploration/GastrointestinalMicrobiomeANDNeurodegenerativeDiseasePubMed_Timeline_Results_by_Year.csv'\n",
    "pubmed_c_file = '/Users/brooksantangelo/Documents/HunterLab/Exploration/CancerPubMed_Timeline_Results_by_Year.csv'\n",
    "\n",
    "\n",
    "\n",
    "pubmed_gm_results = pd.read_csv(pubmed_gm_file,skiprows=1)\n",
    "pubmed_gmR_results = pd.read_csv(pubmed_gmR_file,skiprows=1)\n",
    "pubmed_gmnd_results = pd.read_csv(pubmed_gmnd_file,skiprows=1)\n",
    "pubmed_c_results = pd.read_csv(pubmed_c_file,skiprows=1)\n",
    "\n",
    "def plot_pubmed_results(pubmed_results,search_term):\n",
    "    \n",
    "    year=pubmed_results.Year\n",
    "    ct=pubmed_results.Count\n",
    "\n",
    "\n",
    "    plt.rcParams['font.family'] = 'sans-serif'\n",
    "\n",
    "    fig, ax = plt.subplots(figsize=(5,3.5))\n",
    "    ax.grid(False)\n",
    "    plt.hlines(y=year, xmin=0, xmax=ct, color='#007acc', alpha=0.2, linewidth=5)\n",
    "\n",
    "    plt.plot(ct, year, \"o\", markersize=5, color='#007acc', alpha=0.6)\n",
    "\n",
    "\n",
    "    ax.set_xlabel('# Publications', fontsize=15, fontweight='black', color = '#333F4B')\n",
    "    ax.set_ylabel('Year',fontsize=15, fontweight='black', color = '#333F4B')\n",
    "    fig.suptitle(search_term,fontsize=15, fontweight='black', color = '#333F4B')\n",
    "    \n",
    "plot_pubmed_results(pubmed_gm_results,'Gastrointestinal Microbiome')   \n",
    "plot_pubmed_results(pubmed_gmR_results,'Gastrointestinal Microbiome: Reviews')   \n",
    "plot_pubmed_results(pubmed_gmnd_results,'Gastrointestinal Microbiome AND Neurodegenerative Diseases')\n",
    "plot_pubmed_results(pubmed_c_results,'Cancer')\n",
    "\n",
    "\n"
   ]
  },
  {
   "cell_type": "code",
   "execution_count": null,
   "metadata": {},
   "outputs": [],
   "source": []
  }
 ],
 "metadata": {
  "kernelspec": {
   "display_name": "Python 3",
   "language": "python",
   "name": "python3"
  },
  "language_info": {
   "codemirror_mode": {
    "name": "ipython",
    "version": 3
   },
   "file_extension": ".py",
   "mimetype": "text/x-python",
   "name": "python",
   "nbconvert_exporter": "python",
   "pygments_lexer": "ipython3",
   "version": "3.8.5"
  }
 },
 "nbformat": 4,
 "nbformat_minor": 4
}
